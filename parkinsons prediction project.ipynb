{
 "cells": [
  {
   "cell_type": "markdown",
   "metadata": {},
   "source": [
    "# Importing the dataset"
   ]
  },
  {
   "cell_type": "code",
   "execution_count": 1,
   "metadata": {},
   "outputs": [],
   "source": [
    "import numpy as np\n",
    "import pandas as pd\n",
    "import matplotlib.pyplot as plt\n",
    "import seaborn as sns"
   ]
  },
  {
   "cell_type": "code",
   "execution_count": 2,
   "metadata": {},
   "outputs": [],
   "source": [
    "data = pd.read_csv('parkinsons.data')"
   ]
  },
  {
   "cell_type": "code",
   "execution_count": 3,
   "metadata": {},
   "outputs": [
    {
     "data": {
      "text/html": [
       "<div>\n",
       "<style scoped>\n",
       "    .dataframe tbody tr th:only-of-type {\n",
       "        vertical-align: middle;\n",
       "    }\n",
       "\n",
       "    .dataframe tbody tr th {\n",
       "        vertical-align: top;\n",
       "    }\n",
       "\n",
       "    .dataframe thead th {\n",
       "        text-align: right;\n",
       "    }\n",
       "</style>\n",
       "<table border=\"1\" class=\"dataframe\">\n",
       "  <thead>\n",
       "    <tr style=\"text-align: right;\">\n",
       "      <th></th>\n",
       "      <th>name</th>\n",
       "      <th>MDVP:Fo(Hz)</th>\n",
       "      <th>MDVP:Fhi(Hz)</th>\n",
       "      <th>MDVP:Flo(Hz)</th>\n",
       "      <th>MDVP:Jitter(%)</th>\n",
       "      <th>MDVP:Jitter(Abs)</th>\n",
       "      <th>MDVP:RAP</th>\n",
       "      <th>MDVP:PPQ</th>\n",
       "      <th>Jitter:DDP</th>\n",
       "      <th>MDVP:Shimmer</th>\n",
       "      <th>...</th>\n",
       "      <th>Shimmer:DDA</th>\n",
       "      <th>NHR</th>\n",
       "      <th>HNR</th>\n",
       "      <th>status</th>\n",
       "      <th>RPDE</th>\n",
       "      <th>DFA</th>\n",
       "      <th>spread1</th>\n",
       "      <th>spread2</th>\n",
       "      <th>D2</th>\n",
       "      <th>PPE</th>\n",
       "    </tr>\n",
       "  </thead>\n",
       "  <tbody>\n",
       "    <tr>\n",
       "      <th>0</th>\n",
       "      <td>phon_R01_S01_1</td>\n",
       "      <td>119.992</td>\n",
       "      <td>157.302</td>\n",
       "      <td>74.997</td>\n",
       "      <td>0.00784</td>\n",
       "      <td>0.00007</td>\n",
       "      <td>0.00370</td>\n",
       "      <td>0.00554</td>\n",
       "      <td>0.01109</td>\n",
       "      <td>0.04374</td>\n",
       "      <td>...</td>\n",
       "      <td>0.06545</td>\n",
       "      <td>0.02211</td>\n",
       "      <td>21.033</td>\n",
       "      <td>1</td>\n",
       "      <td>0.414783</td>\n",
       "      <td>0.815285</td>\n",
       "      <td>-4.813031</td>\n",
       "      <td>0.266482</td>\n",
       "      <td>2.301442</td>\n",
       "      <td>0.284654</td>\n",
       "    </tr>\n",
       "    <tr>\n",
       "      <th>1</th>\n",
       "      <td>phon_R01_S01_2</td>\n",
       "      <td>122.400</td>\n",
       "      <td>148.650</td>\n",
       "      <td>113.819</td>\n",
       "      <td>0.00968</td>\n",
       "      <td>0.00008</td>\n",
       "      <td>0.00465</td>\n",
       "      <td>0.00696</td>\n",
       "      <td>0.01394</td>\n",
       "      <td>0.06134</td>\n",
       "      <td>...</td>\n",
       "      <td>0.09403</td>\n",
       "      <td>0.01929</td>\n",
       "      <td>19.085</td>\n",
       "      <td>1</td>\n",
       "      <td>0.458359</td>\n",
       "      <td>0.819521</td>\n",
       "      <td>-4.075192</td>\n",
       "      <td>0.335590</td>\n",
       "      <td>2.486855</td>\n",
       "      <td>0.368674</td>\n",
       "    </tr>\n",
       "    <tr>\n",
       "      <th>2</th>\n",
       "      <td>phon_R01_S01_3</td>\n",
       "      <td>116.682</td>\n",
       "      <td>131.111</td>\n",
       "      <td>111.555</td>\n",
       "      <td>0.01050</td>\n",
       "      <td>0.00009</td>\n",
       "      <td>0.00544</td>\n",
       "      <td>0.00781</td>\n",
       "      <td>0.01633</td>\n",
       "      <td>0.05233</td>\n",
       "      <td>...</td>\n",
       "      <td>0.08270</td>\n",
       "      <td>0.01309</td>\n",
       "      <td>20.651</td>\n",
       "      <td>1</td>\n",
       "      <td>0.429895</td>\n",
       "      <td>0.825288</td>\n",
       "      <td>-4.443179</td>\n",
       "      <td>0.311173</td>\n",
       "      <td>2.342259</td>\n",
       "      <td>0.332634</td>\n",
       "    </tr>\n",
       "    <tr>\n",
       "      <th>3</th>\n",
       "      <td>phon_R01_S01_4</td>\n",
       "      <td>116.676</td>\n",
       "      <td>137.871</td>\n",
       "      <td>111.366</td>\n",
       "      <td>0.00997</td>\n",
       "      <td>0.00009</td>\n",
       "      <td>0.00502</td>\n",
       "      <td>0.00698</td>\n",
       "      <td>0.01505</td>\n",
       "      <td>0.05492</td>\n",
       "      <td>...</td>\n",
       "      <td>0.08771</td>\n",
       "      <td>0.01353</td>\n",
       "      <td>20.644</td>\n",
       "      <td>1</td>\n",
       "      <td>0.434969</td>\n",
       "      <td>0.819235</td>\n",
       "      <td>-4.117501</td>\n",
       "      <td>0.334147</td>\n",
       "      <td>2.405554</td>\n",
       "      <td>0.368975</td>\n",
       "    </tr>\n",
       "    <tr>\n",
       "      <th>4</th>\n",
       "      <td>phon_R01_S01_5</td>\n",
       "      <td>116.014</td>\n",
       "      <td>141.781</td>\n",
       "      <td>110.655</td>\n",
       "      <td>0.01284</td>\n",
       "      <td>0.00011</td>\n",
       "      <td>0.00655</td>\n",
       "      <td>0.00908</td>\n",
       "      <td>0.01966</td>\n",
       "      <td>0.06425</td>\n",
       "      <td>...</td>\n",
       "      <td>0.10470</td>\n",
       "      <td>0.01767</td>\n",
       "      <td>19.649</td>\n",
       "      <td>1</td>\n",
       "      <td>0.417356</td>\n",
       "      <td>0.823484</td>\n",
       "      <td>-3.747787</td>\n",
       "      <td>0.234513</td>\n",
       "      <td>2.332180</td>\n",
       "      <td>0.410335</td>\n",
       "    </tr>\n",
       "  </tbody>\n",
       "</table>\n",
       "<p>5 rows × 24 columns</p>\n",
       "</div>"
      ],
      "text/plain": [
       "             name  MDVP:Fo(Hz)  MDVP:Fhi(Hz)  MDVP:Flo(Hz)  MDVP:Jitter(%)  \\\n",
       "0  phon_R01_S01_1      119.992       157.302        74.997         0.00784   \n",
       "1  phon_R01_S01_2      122.400       148.650       113.819         0.00968   \n",
       "2  phon_R01_S01_3      116.682       131.111       111.555         0.01050   \n",
       "3  phon_R01_S01_4      116.676       137.871       111.366         0.00997   \n",
       "4  phon_R01_S01_5      116.014       141.781       110.655         0.01284   \n",
       "\n",
       "   MDVP:Jitter(Abs)  MDVP:RAP  MDVP:PPQ  Jitter:DDP  MDVP:Shimmer  ...  \\\n",
       "0           0.00007   0.00370   0.00554     0.01109       0.04374  ...   \n",
       "1           0.00008   0.00465   0.00696     0.01394       0.06134  ...   \n",
       "2           0.00009   0.00544   0.00781     0.01633       0.05233  ...   \n",
       "3           0.00009   0.00502   0.00698     0.01505       0.05492  ...   \n",
       "4           0.00011   0.00655   0.00908     0.01966       0.06425  ...   \n",
       "\n",
       "   Shimmer:DDA      NHR     HNR  status      RPDE       DFA   spread1  \\\n",
       "0      0.06545  0.02211  21.033       1  0.414783  0.815285 -4.813031   \n",
       "1      0.09403  0.01929  19.085       1  0.458359  0.819521 -4.075192   \n",
       "2      0.08270  0.01309  20.651       1  0.429895  0.825288 -4.443179   \n",
       "3      0.08771  0.01353  20.644       1  0.434969  0.819235 -4.117501   \n",
       "4      0.10470  0.01767  19.649       1  0.417356  0.823484 -3.747787   \n",
       "\n",
       "    spread2        D2       PPE  \n",
       "0  0.266482  2.301442  0.284654  \n",
       "1  0.335590  2.486855  0.368674  \n",
       "2  0.311173  2.342259  0.332634  \n",
       "3  0.334147  2.405554  0.368975  \n",
       "4  0.234513  2.332180  0.410335  \n",
       "\n",
       "[5 rows x 24 columns]"
      ]
     },
     "execution_count": 3,
     "metadata": {},
     "output_type": "execute_result"
    }
   ],
   "source": [
    "data.head()"
   ]
  },
  {
   "cell_type": "markdown",
   "metadata": {},
   "source": [
    "## Attribute Information"
   ]
  },
  {
   "cell_type": "markdown",
   "metadata": {},
   "source": [
    "name - ASCII subject name and recording number\n",
    "\n",
    "MDVP:Fo(Hz) - Average vocal fundamental frequency\n",
    "\n",
    "MDVP:Fhi(Hz) - Maximum vocal fundamental frequency\n",
    "\n",
    "MDVP:Flo(Hz) - Minimum vocal fundamental frequency\n",
    "\n",
    "MDVP:Jitter(%),MDVP:Jitter(Abs),MDVP:RAP,MDVP:PPQ,Jitter:DDP - Several measures of variation in fundamental frequency\n",
    "\n",
    "MDVP:Shimmer,MDVP:Shimmer(dB),Shimmer:APQ3,Shimmer:APQ5,MDVP:APQ,Shimmer:DDA - Several measures of variation in amplitude\n",
    "\n",
    "NHR,HNR - Two measures of ratio of noise to tonal components in the voice\n",
    "\n",
    "status - Health status of the subject (one) - Parkinson's, (zero) - healthy\n",
    "\n",
    "RPDE,D2 - Two nonlinear dynamical complexity measures\n",
    "\n",
    "DFA - Signal fractal scaling exponent\n",
    "\n",
    "spread1,spread2,PPE - Three nonlinear measures of fundamental frequency variation"
   ]
  },
  {
   "cell_type": "code",
   "execution_count": 4,
   "metadata": {},
   "outputs": [
    {
     "data": {
      "text/plain": [
       "(195, 24)"
      ]
     },
     "execution_count": 4,
     "metadata": {},
     "output_type": "execute_result"
    }
   ],
   "source": [
    "data.shape"
   ]
  },
  {
   "cell_type": "code",
   "execution_count": 5,
   "metadata": {},
   "outputs": [
    {
     "name": "stdout",
     "output_type": "stream",
     "text": [
      "<class 'pandas.core.frame.DataFrame'>\n",
      "RangeIndex: 195 entries, 0 to 194\n",
      "Data columns (total 24 columns):\n",
      " #   Column            Non-Null Count  Dtype  \n",
      "---  ------            --------------  -----  \n",
      " 0   name              195 non-null    object \n",
      " 1   MDVP:Fo(Hz)       195 non-null    float64\n",
      " 2   MDVP:Fhi(Hz)      195 non-null    float64\n",
      " 3   MDVP:Flo(Hz)      195 non-null    float64\n",
      " 4   MDVP:Jitter(%)    195 non-null    float64\n",
      " 5   MDVP:Jitter(Abs)  195 non-null    float64\n",
      " 6   MDVP:RAP          195 non-null    float64\n",
      " 7   MDVP:PPQ          195 non-null    float64\n",
      " 8   Jitter:DDP        195 non-null    float64\n",
      " 9   MDVP:Shimmer      195 non-null    float64\n",
      " 10  MDVP:Shimmer(dB)  195 non-null    float64\n",
      " 11  Shimmer:APQ3      195 non-null    float64\n",
      " 12  Shimmer:APQ5      195 non-null    float64\n",
      " 13  MDVP:APQ          195 non-null    float64\n",
      " 14  Shimmer:DDA       195 non-null    float64\n",
      " 15  NHR               195 non-null    float64\n",
      " 16  HNR               195 non-null    float64\n",
      " 17  status            195 non-null    int64  \n",
      " 18  RPDE              195 non-null    float64\n",
      " 19  DFA               195 non-null    float64\n",
      " 20  spread1           195 non-null    float64\n",
      " 21  spread2           195 non-null    float64\n",
      " 22  D2                195 non-null    float64\n",
      " 23  PPE               195 non-null    float64\n",
      "dtypes: float64(22), int64(1), object(1)\n",
      "memory usage: 36.7+ KB\n"
     ]
    }
   ],
   "source": [
    "data.info()"
   ]
  },
  {
   "cell_type": "markdown",
   "metadata": {},
   "source": [
    "# EDA"
   ]
  },
  {
   "cell_type": "code",
   "execution_count": 6,
   "metadata": {},
   "outputs": [
    {
     "data": {
      "text/plain": [
       "1    147\n",
       "0     48\n",
       "Name: status, dtype: int64"
      ]
     },
     "execution_count": 6,
     "metadata": {},
     "output_type": "execute_result"
    }
   ],
   "source": [
    "data['status'].value_counts()"
   ]
  },
  {
   "cell_type": "code",
   "execution_count": 7,
   "metadata": {},
   "outputs": [
    {
     "data": {
      "text/plain": [
       "<AxesSubplot:xlabel='status', ylabel='count'>"
      ]
     },
     "execution_count": 7,
     "metadata": {},
     "output_type": "execute_result"
    },
    {
     "data": {
      "image/png": "[encoded data removed]",
      "text/plain": [
       "<Figure size 432x288 with 1 Axes>"
      ]
     },
     "metadata": {
      "needs_background": "light"
     },
     "output_type": "display_data"
    }
   ],
   "source": [
    "sns.countplot(x='status', data=data)"
   ]
  },
  {
   "cell_type": "code",
   "execution_count": 8,
   "metadata": {
    "scrolled": true
   },
   "outputs": [
    {
     "name": "stderr",
     "output_type": "stream",
     "text": [
      "/opt/anaconda3/lib/python3.8/site-packages/seaborn/axisgrid.py:392: RuntimeWarning: More than 20 figures have been opened. Figures created through the pyplot interface (`matplotlib.pyplot.figure`) are retained until explicitly closed and may consume too much memory. (To control this warning, see the rcParam `figure.max_open_warning`).\n",
      "  fig, axes = plt.subplots(nrow, ncol, **kwargs)\n"
     ]
    },
    {
     "data": {
      "image/png": "[encoded data removed]",
      "text/plain": [
       "<Figure size 360x360 with 1 Axes>"
      ]
     },
     "metadata": {
      "needs_background": "light"
     },
     "output_type": "display_data"
    },
    {
     "data": {
      "image/png": "[encoded data removed]",
      "text/plain": [
       "<Figure size 360x360 with 1 Axes>"
      ]
     },
     "metadata": {
      "needs_background": "light"
     },
     "output_type": "display_data"
    },
    {
     "data": {
      "image/png": "[encoded data removed]",
      "text/plain": [
       "<Figure size 360x360 with 1 Axes>"
      ]
     },
     "metadata": {
      "needs_background": "light"
     },
     "output_type": "display_data"
    },
    {
     "data": {
      "image/png": "[encoded data removed]",
      "text/plain": [
       "<Figure size 360x360 with 1 Axes>"
      ]
     },
     "metadata": {
      "needs_background": "light"
     },
     "output_type": "display_data"
    },
    {
     "data": {
      "image/png": "[encoded data removed]",
      "text/plain": [
       "<Figure size 360x360 with 1 Axes>"
      ]
     },
     "metadata": {
      "needs_background": "light"
     },
     "output_type": "display_data"
    },
    {
     "data": {
      "image/png": "[encoded data removed]",
      "text/plain": [
       "<Figure size 360x360 with 1 Axes>"
      ]
     },
     "metadata": {
      "needs_background": "light"
     },
     "output_type": "display_data"
    },
    {
     "data": {
      "image/png": "[encoded data removed]",
      "text/plain": [
       "<Figure size 360x360 with 1 Axes>"
      ]
     },
     "metadata": {
      "needs_background": "light"
     },
     "output_type": "display_data"
    },
    {
     "data": {
      "image/png": "[encoded data removed]",
      "text/plain": [
       "<Figure size 360x360 with 1 Axes>"
      ]
     },
     "metadata": {
      "needs_background": "light"
     },
     "output_type": "display_data"
    },
    {
     "data": {
      "image/png": "[encoded data removed]",
      "text/plain": [
       "<Figure size 360x360 with 1 Axes>"
      ]
     },
     "metadata": {
      "needs_background": "light"
     },
     "output_type": "display_data"
    },
    {
     "data": {
      "image/png": "[encoded data removed]",
      "text/plain": [
       "<Figure size 360x360 with 1 Axes>"
      ]
     },
     "metadata": {
      "needs_background": "light"
     },
     "output_type": "display_data"
    },
    {
     "data": {
      "image/png": "[encoded data removed]",
      "text/plain": [
       "<Figure size 360x360 with 1 Axes>"
      ]
     },
     "metadata": {
      "needs_background": "light"
     },
     "output_type": "display_data"
    },
    {
     "data": {
      "image/png": "[encoded data removed]",
      "text/plain": [
       "<Figure size 360x360 with 1 Axes>"
      ]
     },
     "metadata": {
      "needs_background": "light"
     },
     "output_type": "display_data"
    },
    {
     "data": {
      "image/png": "[encoded data removed]",
      "text/plain": [
       "<Figure size 360x360 with 1 Axes>"
      ]
     },
     "metadata": {
      "needs_background": "light"
     },
     "output_type": "display_data"
    },
    {
     "data": {
      "image/png": "[encoded data removed]",
      "text/plain": [
       "<Figure size 360x360 with 1 Axes>"
      ]
     },
     "metadata": {
      "needs_background": "light"
     },
     "output_type": "display_data"
    },
    {
     "data": {
      "image/png": "[encoded data removed]",
      "text/plain": [
       "<Figure size 360x360 with 1 Axes>"
      ]
     },
     "metadata": {
      "needs_background": "light"
     },
     "output_type": "display_data"
    },
    {
     "data": {
      "image/png": "[encoded data removed]",
      "text/plain": [
       "<Figure size 360x360 with 1 Axes>"
      ]
     },
     "metadata": {
      "needs_background": "light"
     },
     "output_type": "display_data"
    },
    {
     "data": {
      "image/png": "[encoded data removed]",
      "text/plain": [
       "<Figure size 360x360 with 1 Axes>"
      ]
     },
     "metadata": {
      "needs_background": "light"
     },
     "output_type": "display_data"
    },
    {
     "data": {
      "image/png": "[encoded data removed]",
      "text/plain": [
       "<Figure size 360x360 with 1 Axes>"
      ]
     },
     "metadata": {
      "needs_background": "light"
     },
     "output_type": "display_data"
    },
    {
     "data": {
      "image/png": "[encoded data removed]",
      "text/plain": [
       "<Figure size 360x360 with 1 Axes>"
      ]
     },
     "metadata": {
      "needs_background": "light"
     },
     "output_type": "display_data"
    },
    {
     "data": {
      "image/png": "[encoded data removed]",
      "text/plain": [
       "<Figure size 360x360 with 1 Axes>"
      ]
     },
     "metadata": {
      "needs_background": "light"
     },
     "output_type": "display_data"
    },
    {
     "data": {
      "image/png": "[encoded data removed]",
      "text/plain": [
       "<Figure size 360x360 with 1 Axes>"
      ]
     },
     "metadata": {
      "needs_background": "light"
     },
     "output_type": "display_data"
    },
    {
     "data": {
      "image/png": "[encoded data removed]",
      "text/plain": [
       "<Figure size 360x360 with 1 Axes>"
      ]
     },
     "metadata": {
      "needs_background": "light"
     },
     "output_type": "display_data"
    }
   ],
   "source": [
    "for i in data:\n",
    "    if i != 'name' and i != 'status':\n",
    "        sns.catplot(x='status', y=i, data=data, kind='box')"
   ]
  },
  {
   "cell_type": "markdown",
   "metadata": {},
   "source": [
    "# Data Preprocessing"
   ]
  },
  {
   "cell_type": "code",
   "execution_count": 9,
   "metadata": {},
   "outputs": [
    {
     "data": {
      "text/plain": [
       "name                0\n",
       "MDVP:Fo(Hz)         0\n",
       "MDVP:Fhi(Hz)        0\n",
       "MDVP:Flo(Hz)        0\n",
       "MDVP:Jitter(%)      0\n",
       "MDVP:Jitter(Abs)    0\n",
       "MDVP:RAP            0\n",
       "MDVP:PPQ            0\n",
       "Jitter:DDP          0\n",
       "MDVP:Shimmer        0\n",
       "MDVP:Shimmer(dB)    0\n",
       "Shimmer:APQ3        0\n",
       "Shimmer:APQ5        0\n",
       "MDVP:APQ            0\n",
       "Shimmer:DDA         0\n",
       "NHR                 0\n",
       "HNR                 0\n",
       "status              0\n",
       "RPDE                0\n",
       "DFA                 0\n",
       "spread1             0\n",
       "spread2             0\n",
       "D2                  0\n",
       "PPE                 0\n",
       "dtype: int64"
      ]
     },
     "execution_count": 9,
     "metadata": {},
     "output_type": "execute_result"
    }
   ],
   "source": [
    "data.isnull().sum()"
   ]
  },
  {
   "cell_type": "code",
   "execution_count": 10,
   "metadata": {},
   "outputs": [
    {
     "data": {
      "text/html": [
       "<div>\n",
       "<style scoped>\n",
       "    .dataframe tbody tr th:only-of-type {\n",
       "        vertical-align: middle;\n",
       "    }\n",
       "\n",
       "    .dataframe tbody tr th {\n",
       "        vertical-align: top;\n",
       "    }\n",
       "\n",
       "    .dataframe thead th {\n",
       "        text-align: right;\n",
       "    }\n",
       "</style>\n",
       "<table border=\"1\" class=\"dataframe\">\n",
       "  <thead>\n",
       "    <tr style=\"text-align: right;\">\n",
       "      <th></th>\n",
       "      <th>count</th>\n",
       "      <th>mean</th>\n",
       "      <th>std</th>\n",
       "      <th>min</th>\n",
       "      <th>25%</th>\n",
       "      <th>50%</th>\n",
       "      <th>75%</th>\n",
       "      <th>max</th>\n",
       "    </tr>\n",
       "  </thead>\n",
       "  <tbody>\n",
       "    <tr>\n",
       "      <th>MDVP:Fo(Hz)</th>\n",
       "      <td>195.0</td>\n",
       "      <td>154.228641</td>\n",
       "      <td>41.390065</td>\n",
       "      <td>88.333000</td>\n",
       "      <td>117.572000</td>\n",
       "      <td>148.790000</td>\n",
       "      <td>182.769000</td>\n",
       "      <td>260.105000</td>\n",
       "    </tr>\n",
       "    <tr>\n",
       "      <th>MDVP:Fhi(Hz)</th>\n",
       "      <td>195.0</td>\n",
       "      <td>197.104918</td>\n",
       "      <td>91.491548</td>\n",
       "      <td>102.145000</td>\n",
       "      <td>134.862500</td>\n",
       "      <td>175.829000</td>\n",
       "      <td>224.205500</td>\n",
       "      <td>592.030000</td>\n",
       "    </tr>\n",
       "    <tr>\n",
       "      <th>MDVP:Flo(Hz)</th>\n",
       "      <td>195.0</td>\n",
       "      <td>116.324631</td>\n",
       "      <td>43.521413</td>\n",
       "      <td>65.476000</td>\n",
       "      <td>84.291000</td>\n",
       "      <td>104.315000</td>\n",
       "      <td>140.018500</td>\n",
       "      <td>239.170000</td>\n",
       "    </tr>\n",
       "    <tr>\n",
       "      <th>MDVP:Jitter(%)</th>\n",
       "      <td>195.0</td>\n",
       "      <td>0.006220</td>\n",
       "      <td>0.004848</td>\n",
       "      <td>0.001680</td>\n",
       "      <td>0.003460</td>\n",
       "      <td>0.004940</td>\n",
       "      <td>0.007365</td>\n",
       "      <td>0.033160</td>\n",
       "    </tr>\n",
       "    <tr>\n",
       "      <th>MDVP:Jitter(Abs)</th>\n",
       "      <td>195.0</td>\n",
       "      <td>0.000044</td>\n",
       "      <td>0.000035</td>\n",
       "      <td>0.000007</td>\n",
       "      <td>0.000020</td>\n",
       "      <td>0.000030</td>\n",
       "      <td>0.000060</td>\n",
       "      <td>0.000260</td>\n",
       "    </tr>\n",
       "    <tr>\n",
       "      <th>MDVP:RAP</th>\n",
       "      <td>195.0</td>\n",
       "      <td>0.003306</td>\n",
       "      <td>0.002968</td>\n",
       "      <td>0.000680</td>\n",
       "      <td>0.001660</td>\n",
       "      <td>0.002500</td>\n",
       "      <td>0.003835</td>\n",
       "      <td>0.021440</td>\n",
       "    </tr>\n",
       "    <tr>\n",
       "      <th>MDVP:PPQ</th>\n",
       "      <td>195.0</td>\n",
       "      <td>0.003446</td>\n",
       "      <td>0.002759</td>\n",
       "      <td>0.000920</td>\n",
       "      <td>0.001860</td>\n",
       "      <td>0.002690</td>\n",
       "      <td>0.003955</td>\n",
       "      <td>0.019580</td>\n",
       "    </tr>\n",
       "    <tr>\n",
       "      <th>Jitter:DDP</th>\n",
       "      <td>195.0</td>\n",
       "      <td>0.009920</td>\n",
       "      <td>0.008903</td>\n",
       "      <td>0.002040</td>\n",
       "      <td>0.004985</td>\n",
       "      <td>0.007490</td>\n",
       "      <td>0.011505</td>\n",
       "      <td>0.064330</td>\n",
       "    </tr>\n",
       "    <tr>\n",
       "      <th>MDVP:Shimmer</th>\n",
       "      <td>195.0</td>\n",
       "      <td>0.029709</td>\n",
       "      <td>0.018857</td>\n",
       "      <td>0.009540</td>\n",
       "      <td>0.016505</td>\n",
       "      <td>0.022970</td>\n",
       "      <td>0.037885</td>\n",
       "      <td>0.119080</td>\n",
       "    </tr>\n",
       "    <tr>\n",
       "      <th>MDVP:Shimmer(dB)</th>\n",
       "      <td>195.0</td>\n",
       "      <td>0.282251</td>\n",
       "      <td>0.194877</td>\n",
       "      <td>0.085000</td>\n",
       "      <td>0.148500</td>\n",
       "      <td>0.221000</td>\n",
       "      <td>0.350000</td>\n",
       "      <td>1.302000</td>\n",
       "    </tr>\n",
       "    <tr>\n",
       "      <th>Shimmer:APQ3</th>\n",
       "      <td>195.0</td>\n",
       "      <td>0.015664</td>\n",
       "      <td>0.010153</td>\n",
       "      <td>0.004550</td>\n",
       "      <td>0.008245</td>\n",
       "      <td>0.012790</td>\n",
       "      <td>0.020265</td>\n",
       "      <td>0.056470</td>\n",
       "    </tr>\n",
       "    <tr>\n",
       "      <th>Shimmer:APQ5</th>\n",
       "      <td>195.0</td>\n",
       "      <td>0.017878</td>\n",
       "      <td>0.012024</td>\n",
       "      <td>0.005700</td>\n",
       "      <td>0.009580</td>\n",
       "      <td>0.013470</td>\n",
       "      <td>0.022380</td>\n",
       "      <td>0.079400</td>\n",
       "    </tr>\n",
       "    <tr>\n",
       "      <th>MDVP:APQ</th>\n",
       "      <td>195.0</td>\n",
       "      <td>0.024081</td>\n",
       "      <td>0.016947</td>\n",
       "      <td>0.007190</td>\n",
       "      <td>0.013080</td>\n",
       "      <td>0.018260</td>\n",
       "      <td>0.029400</td>\n",
       "      <td>0.137780</td>\n",
       "    </tr>\n",
       "    <tr>\n",
       "      <th>Shimmer:DDA</th>\n",
       "      <td>195.0</td>\n",
       "      <td>0.046993</td>\n",
       "      <td>0.030459</td>\n",
       "      <td>0.013640</td>\n",
       "      <td>0.024735</td>\n",
       "      <td>0.038360</td>\n",
       "      <td>0.060795</td>\n",
       "      <td>0.169420</td>\n",
       "    </tr>\n",
       "    <tr>\n",
       "      <th>NHR</th>\n",
       "      <td>195.0</td>\n",
       "      <td>0.024847</td>\n",
       "      <td>0.040418</td>\n",
       "      <td>0.000650</td>\n",
       "      <td>0.005925</td>\n",
       "      <td>0.011660</td>\n",
       "      <td>0.025640</td>\n",
       "      <td>0.314820</td>\n",
       "    </tr>\n",
       "    <tr>\n",
       "      <th>HNR</th>\n",
       "      <td>195.0</td>\n",
       "      <td>21.885974</td>\n",
       "      <td>4.425764</td>\n",
       "      <td>8.441000</td>\n",
       "      <td>19.198000</td>\n",
       "      <td>22.085000</td>\n",
       "      <td>25.075500</td>\n",
       "      <td>33.047000</td>\n",
       "    </tr>\n",
       "    <tr>\n",
       "      <th>status</th>\n",
       "      <td>195.0</td>\n",
       "      <td>0.753846</td>\n",
       "      <td>0.431878</td>\n",
       "      <td>0.000000</td>\n",
       "      <td>1.000000</td>\n",
       "      <td>1.000000</td>\n",
       "      <td>1.000000</td>\n",
       "      <td>1.000000</td>\n",
       "    </tr>\n",
       "    <tr>\n",
       "      <th>RPDE</th>\n",
       "      <td>195.0</td>\n",
       "      <td>0.498536</td>\n",
       "      <td>0.103942</td>\n",
       "      <td>0.256570</td>\n",
       "      <td>0.421306</td>\n",
       "      <td>0.495954</td>\n",
       "      <td>0.587562</td>\n",
       "      <td>0.685151</td>\n",
       "    </tr>\n",
       "    <tr>\n",
       "      <th>DFA</th>\n",
       "      <td>195.0</td>\n",
       "      <td>0.718099</td>\n",
       "      <td>0.055336</td>\n",
       "      <td>0.574282</td>\n",
       "      <td>0.674758</td>\n",
       "      <td>0.722254</td>\n",
       "      <td>0.761881</td>\n",
       "      <td>0.825288</td>\n",
       "    </tr>\n",
       "    <tr>\n",
       "      <th>spread1</th>\n",
       "      <td>195.0</td>\n",
       "      <td>-5.684397</td>\n",
       "      <td>1.090208</td>\n",
       "      <td>-7.964984</td>\n",
       "      <td>-6.450096</td>\n",
       "      <td>-5.720868</td>\n",
       "      <td>-5.046192</td>\n",
       "      <td>-2.434031</td>\n",
       "    </tr>\n",
       "    <tr>\n",
       "      <th>spread2</th>\n",
       "      <td>195.0</td>\n",
       "      <td>0.226510</td>\n",
       "      <td>0.083406</td>\n",
       "      <td>0.006274</td>\n",
       "      <td>0.174351</td>\n",
       "      <td>0.218885</td>\n",
       "      <td>0.279234</td>\n",
       "      <td>0.450493</td>\n",
       "    </tr>\n",
       "    <tr>\n",
       "      <th>D2</th>\n",
       "      <td>195.0</td>\n",
       "      <td>2.381826</td>\n",
       "      <td>0.382799</td>\n",
       "      <td>1.423287</td>\n",
       "      <td>2.099125</td>\n",
       "      <td>2.361532</td>\n",
       "      <td>2.636456</td>\n",
       "      <td>3.671155</td>\n",
       "    </tr>\n",
       "    <tr>\n",
       "      <th>PPE</th>\n",
       "      <td>195.0</td>\n",
       "      <td>0.206552</td>\n",
       "      <td>0.090119</td>\n",
       "      <td>0.044539</td>\n",
       "      <td>0.137451</td>\n",
       "      <td>0.194052</td>\n",
       "      <td>0.252980</td>\n",
       "      <td>0.527367</td>\n",
       "    </tr>\n",
       "  </tbody>\n",
       "</table>\n",
       "</div>"
      ],
      "text/plain": [
       "                  count        mean        std         min         25%  \\\n",
       "MDVP:Fo(Hz)       195.0  154.228641  41.390065   88.333000  117.572000   \n",
       "MDVP:Fhi(Hz)      195.0  197.104918  91.491548  102.145000  134.862500   \n",
       "MDVP:Flo(Hz)      195.0  116.324631  43.521413   65.476000   84.291000   \n",
       "MDVP:Jitter(%)    195.0    0.006220   0.004848    0.001680    0.003460   \n",
       "MDVP:Jitter(Abs)  195.0    0.000044   0.000035    0.000007    0.000020   \n",
       "MDVP:RAP          195.0    0.003306   0.002968    0.000680    0.001660   \n",
       "MDVP:PPQ          195.0    0.003446   0.002759    0.000920    0.001860   \n",
       "Jitter:DDP        195.0    0.009920   0.008903    0.002040    0.004985   \n",
       "MDVP:Shimmer      195.0    0.029709   0.018857    0.009540    0.016505   \n",
       "MDVP:Shimmer(dB)  195.0    0.282251   0.194877    0.085000    0.148500   \n",
       "Shimmer:APQ3      195.0    0.015664   0.010153    0.004550    0.008245   \n",
       "Shimmer:APQ5      195.0    0.017878   0.012024    0.005700    0.009580   \n",
       "MDVP:APQ          195.0    0.024081   0.016947    0.007190    0.013080   \n",
       "Shimmer:DDA       195.0    0.046993   0.030459    0.013640    0.024735   \n",
       "NHR               195.0    0.024847   0.040418    0.000650    0.005925   \n",
       "HNR               195.0   21.885974   4.425764    8.441000   19.198000   \n",
       "status            195.0    0.753846   0.431878    0.000000    1.000000   \n",
       "RPDE              195.0    0.498536   0.103942    0.256570    0.421306   \n",
       "DFA               195.0    0.718099   0.055336    0.574282    0.674758   \n",
       "spread1           195.0   -5.684397   1.090208   -7.964984   -6.450096   \n",
       "spread2           195.0    0.226510   0.083406    0.006274    0.174351   \n",
       "D2                195.0    2.381826   0.382799    1.423287    2.099125   \n",
       "PPE               195.0    0.206552   0.090119    0.044539    0.137451   \n",
       "\n",
       "                         50%         75%         max  \n",
       "MDVP:Fo(Hz)       148.790000  182.769000  260.105000  \n",
       "MDVP:Fhi(Hz)      175.829000  224.205500  592.030000  \n",
       "MDVP:Flo(Hz)      104.315000  140.018500  239.170000  \n",
       "MDVP:Jitter(%)      0.004940    0.007365    0.033160  \n",
       "MDVP:Jitter(Abs)    0.000030    0.000060    0.000260  \n",
       "MDVP:RAP            0.002500    0.003835    0.021440  \n",
       "MDVP:PPQ            0.002690    0.003955    0.019580  \n",
       "Jitter:DDP          0.007490    0.011505    0.064330  \n",
       "MDVP:Shimmer        0.022970    0.037885    0.119080  \n",
       "MDVP:Shimmer(dB)    0.221000    0.350000    1.302000  \n",
       "Shimmer:APQ3        0.012790    0.020265    0.056470  \n",
       "Shimmer:APQ5        0.013470    0.022380    0.079400  \n",
       "MDVP:APQ            0.018260    0.029400    0.137780  \n",
       "Shimmer:DDA         0.038360    0.060795    0.169420  \n",
       "NHR                 0.011660    0.025640    0.314820  \n",
       "HNR                22.085000   25.075500   33.047000  \n",
       "status              1.000000    1.000000    1.000000  \n",
       "RPDE                0.495954    0.587562    0.685151  \n",
       "DFA                 0.722254    0.761881    0.825288  \n",
       "spread1            -5.720868   -5.046192   -2.434031  \n",
       "spread2             0.218885    0.279234    0.450493  \n",
       "D2                  2.361532    2.636456    3.671155  \n",
       "PPE                 0.194052    0.252980    0.527367  "
      ]
     },
     "execution_count": 10,
     "metadata": {},
     "output_type": "execute_result"
    }
   ],
   "source": [
    "data.describe().transpose()"
   ]
  },
  {
   "cell_type": "code",
   "execution_count": 11,
   "metadata": {},
   "outputs": [
    {
     "data": {
      "text/html": [
       "<div>\n",
       "<style scoped>\n",
       "    .dataframe tbody tr th:only-of-type {\n",
       "        vertical-align: middle;\n",
       "    }\n",
       "\n",
       "    .dataframe tbody tr th {\n",
       "        vertical-align: top;\n",
       "    }\n",
       "\n",
       "    .dataframe thead th {\n",
       "        text-align: right;\n",
       "    }\n",
       "</style>\n",
       "<table border=\"1\" class=\"dataframe\">\n",
       "  <thead>\n",
       "    <tr style=\"text-align: right;\">\n",
       "      <th></th>\n",
       "      <th>MDVP:Fo(Hz)</th>\n",
       "      <th>MDVP:Fhi(Hz)</th>\n",
       "      <th>MDVP:Flo(Hz)</th>\n",
       "      <th>MDVP:Jitter(%)</th>\n",
       "      <th>MDVP:Jitter(Abs)</th>\n",
       "      <th>MDVP:RAP</th>\n",
       "      <th>MDVP:PPQ</th>\n",
       "      <th>Jitter:DDP</th>\n",
       "      <th>MDVP:Shimmer</th>\n",
       "      <th>MDVP:Shimmer(dB)</th>\n",
       "      <th>...</th>\n",
       "      <th>Shimmer:DDA</th>\n",
       "      <th>NHR</th>\n",
       "      <th>HNR</th>\n",
       "      <th>status</th>\n",
       "      <th>RPDE</th>\n",
       "      <th>DFA</th>\n",
       "      <th>spread1</th>\n",
       "      <th>spread2</th>\n",
       "      <th>D2</th>\n",
       "      <th>PPE</th>\n",
       "    </tr>\n",
       "  </thead>\n",
       "  <tbody>\n",
       "    <tr>\n",
       "      <th>MDVP:Fo(Hz)</th>\n",
       "      <td>1.000000</td>\n",
       "      <td>0.400985</td>\n",
       "      <td>0.596546</td>\n",
       "      <td>-0.118003</td>\n",
       "      <td>-0.382027</td>\n",
       "      <td>-0.076194</td>\n",
       "      <td>-0.112165</td>\n",
       "      <td>-0.076213</td>\n",
       "      <td>-0.098374</td>\n",
       "      <td>-0.073742</td>\n",
       "      <td>...</td>\n",
       "      <td>-0.094732</td>\n",
       "      <td>-0.021981</td>\n",
       "      <td>0.059144</td>\n",
       "      <td>-0.383535</td>\n",
       "      <td>-0.383894</td>\n",
       "      <td>-0.446013</td>\n",
       "      <td>-0.413738</td>\n",
       "      <td>-0.249450</td>\n",
       "      <td>0.177980</td>\n",
       "      <td>-0.372356</td>\n",
       "    </tr>\n",
       "    <tr>\n",
       "      <th>MDVP:Fhi(Hz)</th>\n",
       "      <td>0.400985</td>\n",
       "      <td>1.000000</td>\n",
       "      <td>0.084951</td>\n",
       "      <td>0.102086</td>\n",
       "      <td>-0.029198</td>\n",
       "      <td>0.097177</td>\n",
       "      <td>0.091126</td>\n",
       "      <td>0.097150</td>\n",
       "      <td>0.002281</td>\n",
       "      <td>0.043465</td>\n",
       "      <td>...</td>\n",
       "      <td>-0.003733</td>\n",
       "      <td>0.163766</td>\n",
       "      <td>-0.024893</td>\n",
       "      <td>-0.166136</td>\n",
       "      <td>-0.112404</td>\n",
       "      <td>-0.343097</td>\n",
       "      <td>-0.076658</td>\n",
       "      <td>-0.002954</td>\n",
       "      <td>0.176323</td>\n",
       "      <td>-0.069543</td>\n",
       "    </tr>\n",
       "    <tr>\n",
       "      <th>MDVP:Flo(Hz)</th>\n",
       "      <td>0.596546</td>\n",
       "      <td>0.084951</td>\n",
       "      <td>1.000000</td>\n",
       "      <td>-0.139919</td>\n",
       "      <td>-0.277815</td>\n",
       "      <td>-0.100519</td>\n",
       "      <td>-0.095828</td>\n",
       "      <td>-0.100488</td>\n",
       "      <td>-0.144543</td>\n",
       "      <td>-0.119089</td>\n",
       "      <td>...</td>\n",
       "      <td>-0.150737</td>\n",
       "      <td>-0.108670</td>\n",
       "      <td>0.210851</td>\n",
       "      <td>-0.380200</td>\n",
       "      <td>-0.400143</td>\n",
       "      <td>-0.050406</td>\n",
       "      <td>-0.394857</td>\n",
       "      <td>-0.243829</td>\n",
       "      <td>-0.100629</td>\n",
       "      <td>-0.340071</td>\n",
       "    </tr>\n",
       "    <tr>\n",
       "      <th>MDVP:Jitter(%)</th>\n",
       "      <td>-0.118003</td>\n",
       "      <td>0.102086</td>\n",
       "      <td>-0.139919</td>\n",
       "      <td>1.000000</td>\n",
       "      <td>0.935714</td>\n",
       "      <td>0.990276</td>\n",
       "      <td>0.974256</td>\n",
       "      <td>0.990276</td>\n",
       "      <td>0.769063</td>\n",
       "      <td>0.804289</td>\n",
       "      <td>...</td>\n",
       "      <td>0.746635</td>\n",
       "      <td>0.906959</td>\n",
       "      <td>-0.728165</td>\n",
       "      <td>0.278220</td>\n",
       "      <td>0.360673</td>\n",
       "      <td>0.098572</td>\n",
       "      <td>0.693577</td>\n",
       "      <td>0.385123</td>\n",
       "      <td>0.433434</td>\n",
       "      <td>0.721543</td>\n",
       "    </tr>\n",
       "    <tr>\n",
       "      <th>MDVP:Jitter(Abs)</th>\n",
       "      <td>-0.382027</td>\n",
       "      <td>-0.029198</td>\n",
       "      <td>-0.277815</td>\n",
       "      <td>0.935714</td>\n",
       "      <td>1.000000</td>\n",
       "      <td>0.922911</td>\n",
       "      <td>0.897778</td>\n",
       "      <td>0.922913</td>\n",
       "      <td>0.703322</td>\n",
       "      <td>0.716601</td>\n",
       "      <td>...</td>\n",
       "      <td>0.697170</td>\n",
       "      <td>0.834972</td>\n",
       "      <td>-0.656810</td>\n",
       "      <td>0.338653</td>\n",
       "      <td>0.441839</td>\n",
       "      <td>0.175036</td>\n",
       "      <td>0.735779</td>\n",
       "      <td>0.388543</td>\n",
       "      <td>0.310694</td>\n",
       "      <td>0.748162</td>\n",
       "    </tr>\n",
       "    <tr>\n",
       "      <th>MDVP:RAP</th>\n",
       "      <td>-0.076194</td>\n",
       "      <td>0.097177</td>\n",
       "      <td>-0.100519</td>\n",
       "      <td>0.990276</td>\n",
       "      <td>0.922911</td>\n",
       "      <td>1.000000</td>\n",
       "      <td>0.957317</td>\n",
       "      <td>1.000000</td>\n",
       "      <td>0.759581</td>\n",
       "      <td>0.790652</td>\n",
       "      <td>...</td>\n",
       "      <td>0.744919</td>\n",
       "      <td>0.919521</td>\n",
       "      <td>-0.721543</td>\n",
       "      <td>0.266668</td>\n",
       "      <td>0.342140</td>\n",
       "      <td>0.064083</td>\n",
       "      <td>0.648328</td>\n",
       "      <td>0.324407</td>\n",
       "      <td>0.426605</td>\n",
       "      <td>0.670999</td>\n",
       "    </tr>\n",
       "    <tr>\n",
       "      <th>MDVP:PPQ</th>\n",
       "      <td>-0.112165</td>\n",
       "      <td>0.091126</td>\n",
       "      <td>-0.095828</td>\n",
       "      <td>0.974256</td>\n",
       "      <td>0.897778</td>\n",
       "      <td>0.957317</td>\n",
       "      <td>1.000000</td>\n",
       "      <td>0.957319</td>\n",
       "      <td>0.797826</td>\n",
       "      <td>0.839239</td>\n",
       "      <td>...</td>\n",
       "      <td>0.763592</td>\n",
       "      <td>0.844604</td>\n",
       "      <td>-0.731510</td>\n",
       "      <td>0.288698</td>\n",
       "      <td>0.333274</td>\n",
       "      <td>0.196301</td>\n",
       "      <td>0.716489</td>\n",
       "      <td>0.407605</td>\n",
       "      <td>0.412524</td>\n",
       "      <td>0.769647</td>\n",
       "    </tr>\n",
       "    <tr>\n",
       "      <th>Jitter:DDP</th>\n",
       "      <td>-0.076213</td>\n",
       "      <td>0.097150</td>\n",
       "      <td>-0.100488</td>\n",
       "      <td>0.990276</td>\n",
       "      <td>0.922913</td>\n",
       "      <td>1.000000</td>\n",
       "      <td>0.957319</td>\n",
       "      <td>1.000000</td>\n",
       "      <td>0.759555</td>\n",
       "      <td>0.790621</td>\n",
       "      <td>...</td>\n",
       "      <td>0.744901</td>\n",
       "      <td>0.919548</td>\n",
       "      <td>-0.721494</td>\n",
       "      <td>0.266646</td>\n",
       "      <td>0.342079</td>\n",
       "      <td>0.064026</td>\n",
       "      <td>0.648328</td>\n",
       "      <td>0.324377</td>\n",
       "      <td>0.426556</td>\n",
       "      <td>0.671005</td>\n",
       "    </tr>\n",
       "    <tr>\n",
       "      <th>MDVP:Shimmer</th>\n",
       "      <td>-0.098374</td>\n",
       "      <td>0.002281</td>\n",
       "      <td>-0.144543</td>\n",
       "      <td>0.769063</td>\n",
       "      <td>0.703322</td>\n",
       "      <td>0.759581</td>\n",
       "      <td>0.797826</td>\n",
       "      <td>0.759555</td>\n",
       "      <td>1.000000</td>\n",
       "      <td>0.987258</td>\n",
       "      <td>...</td>\n",
       "      <td>0.987626</td>\n",
       "      <td>0.722194</td>\n",
       "      <td>-0.835271</td>\n",
       "      <td>0.367430</td>\n",
       "      <td>0.447424</td>\n",
       "      <td>0.159954</td>\n",
       "      <td>0.654734</td>\n",
       "      <td>0.452025</td>\n",
       "      <td>0.507088</td>\n",
       "      <td>0.693771</td>\n",
       "    </tr>\n",
       "    <tr>\n",
       "      <th>MDVP:Shimmer(dB)</th>\n",
       "      <td>-0.073742</td>\n",
       "      <td>0.043465</td>\n",
       "      <td>-0.119089</td>\n",
       "      <td>0.804289</td>\n",
       "      <td>0.716601</td>\n",
       "      <td>0.790652</td>\n",
       "      <td>0.839239</td>\n",
       "      <td>0.790621</td>\n",
       "      <td>0.987258</td>\n",
       "      <td>1.000000</td>\n",
       "      <td>...</td>\n",
       "      <td>0.963202</td>\n",
       "      <td>0.744477</td>\n",
       "      <td>-0.827805</td>\n",
       "      <td>0.350697</td>\n",
       "      <td>0.410684</td>\n",
       "      <td>0.165157</td>\n",
       "      <td>0.652547</td>\n",
       "      <td>0.454314</td>\n",
       "      <td>0.512233</td>\n",
       "      <td>0.695058</td>\n",
       "    </tr>\n",
       "    <tr>\n",
       "      <th>Shimmer:APQ3</th>\n",
       "      <td>-0.094717</td>\n",
       "      <td>-0.003743</td>\n",
       "      <td>-0.150747</td>\n",
       "      <td>0.746625</td>\n",
       "      <td>0.697153</td>\n",
       "      <td>0.744912</td>\n",
       "      <td>0.763580</td>\n",
       "      <td>0.744894</td>\n",
       "      <td>0.987625</td>\n",
       "      <td>0.963198</td>\n",
       "      <td>...</td>\n",
       "      <td>1.000000</td>\n",
       "      <td>0.716207</td>\n",
       "      <td>-0.827123</td>\n",
       "      <td>0.347617</td>\n",
       "      <td>0.435242</td>\n",
       "      <td>0.151124</td>\n",
       "      <td>0.610967</td>\n",
       "      <td>0.402243</td>\n",
       "      <td>0.467265</td>\n",
       "      <td>0.645377</td>\n",
       "    </tr>\n",
       "    <tr>\n",
       "      <th>Shimmer:APQ5</th>\n",
       "      <td>-0.070682</td>\n",
       "      <td>-0.009997</td>\n",
       "      <td>-0.101095</td>\n",
       "      <td>0.725561</td>\n",
       "      <td>0.648961</td>\n",
       "      <td>0.709927</td>\n",
       "      <td>0.786780</td>\n",
       "      <td>0.709907</td>\n",
       "      <td>0.982835</td>\n",
       "      <td>0.973751</td>\n",
       "      <td>...</td>\n",
       "      <td>0.960072</td>\n",
       "      <td>0.658080</td>\n",
       "      <td>-0.813753</td>\n",
       "      <td>0.351148</td>\n",
       "      <td>0.399903</td>\n",
       "      <td>0.213873</td>\n",
       "      <td>0.646809</td>\n",
       "      <td>0.457195</td>\n",
       "      <td>0.502174</td>\n",
       "      <td>0.702456</td>\n",
       "    </tr>\n",
       "    <tr>\n",
       "      <th>MDVP:APQ</th>\n",
       "      <td>-0.077774</td>\n",
       "      <td>0.004937</td>\n",
       "      <td>-0.107293</td>\n",
       "      <td>0.758255</td>\n",
       "      <td>0.648793</td>\n",
       "      <td>0.737455</td>\n",
       "      <td>0.804139</td>\n",
       "      <td>0.737439</td>\n",
       "      <td>0.950083</td>\n",
       "      <td>0.960977</td>\n",
       "      <td>...</td>\n",
       "      <td>0.896647</td>\n",
       "      <td>0.694019</td>\n",
       "      <td>-0.800407</td>\n",
       "      <td>0.364316</td>\n",
       "      <td>0.451379</td>\n",
       "      <td>0.157276</td>\n",
       "      <td>0.673158</td>\n",
       "      <td>0.502188</td>\n",
       "      <td>0.536869</td>\n",
       "      <td>0.721694</td>\n",
       "    </tr>\n",
       "    <tr>\n",
       "      <th>Shimmer:DDA</th>\n",
       "      <td>-0.094732</td>\n",
       "      <td>-0.003733</td>\n",
       "      <td>-0.150737</td>\n",
       "      <td>0.746635</td>\n",
       "      <td>0.697170</td>\n",
       "      <td>0.744919</td>\n",
       "      <td>0.763592</td>\n",
       "      <td>0.744901</td>\n",
       "      <td>0.987626</td>\n",
       "      <td>0.963202</td>\n",
       "      <td>...</td>\n",
       "      <td>1.000000</td>\n",
       "      <td>0.716215</td>\n",
       "      <td>-0.827130</td>\n",
       "      <td>0.347608</td>\n",
       "      <td>0.435237</td>\n",
       "      <td>0.151132</td>\n",
       "      <td>0.610971</td>\n",
       "      <td>0.402223</td>\n",
       "      <td>0.467261</td>\n",
       "      <td>0.645389</td>\n",
       "    </tr>\n",
       "    <tr>\n",
       "      <th>NHR</th>\n",
       "      <td>-0.021981</td>\n",
       "      <td>0.163766</td>\n",
       "      <td>-0.108670</td>\n",
       "      <td>0.906959</td>\n",
       "      <td>0.834972</td>\n",
       "      <td>0.919521</td>\n",
       "      <td>0.844604</td>\n",
       "      <td>0.919548</td>\n",
       "      <td>0.722194</td>\n",
       "      <td>0.744477</td>\n",
       "      <td>...</td>\n",
       "      <td>0.716215</td>\n",
       "      <td>1.000000</td>\n",
       "      <td>-0.714072</td>\n",
       "      <td>0.189429</td>\n",
       "      <td>0.370890</td>\n",
       "      <td>-0.131882</td>\n",
       "      <td>0.540865</td>\n",
       "      <td>0.318099</td>\n",
       "      <td>0.470949</td>\n",
       "      <td>0.552591</td>\n",
       "    </tr>\n",
       "    <tr>\n",
       "      <th>HNR</th>\n",
       "      <td>0.059144</td>\n",
       "      <td>-0.024893</td>\n",
       "      <td>0.210851</td>\n",
       "      <td>-0.728165</td>\n",
       "      <td>-0.656810</td>\n",
       "      <td>-0.721543</td>\n",
       "      <td>-0.731510</td>\n",
       "      <td>-0.721494</td>\n",
       "      <td>-0.835271</td>\n",
       "      <td>-0.827805</td>\n",
       "      <td>...</td>\n",
       "      <td>-0.827130</td>\n",
       "      <td>-0.714072</td>\n",
       "      <td>1.000000</td>\n",
       "      <td>-0.361515</td>\n",
       "      <td>-0.598736</td>\n",
       "      <td>-0.008665</td>\n",
       "      <td>-0.673210</td>\n",
       "      <td>-0.431564</td>\n",
       "      <td>-0.601401</td>\n",
       "      <td>-0.692876</td>\n",
       "    </tr>\n",
       "    <tr>\n",
       "      <th>status</th>\n",
       "      <td>-0.383535</td>\n",
       "      <td>-0.166136</td>\n",
       "      <td>-0.380200</td>\n",
       "      <td>0.278220</td>\n",
       "      <td>0.338653</td>\n",
       "      <td>0.266668</td>\n",
       "      <td>0.288698</td>\n",
       "      <td>0.266646</td>\n",
       "      <td>0.367430</td>\n",
       "      <td>0.350697</td>\n",
       "      <td>...</td>\n",
       "      <td>0.347608</td>\n",
       "      <td>0.189429</td>\n",
       "      <td>-0.361515</td>\n",
       "      <td>1.000000</td>\n",
       "      <td>0.308567</td>\n",
       "      <td>0.231739</td>\n",
       "      <td>0.564838</td>\n",
       "      <td>0.454842</td>\n",
       "      <td>0.340232</td>\n",
       "      <td>0.531039</td>\n",
       "    </tr>\n",
       "    <tr>\n",
       "      <th>RPDE</th>\n",
       "      <td>-0.383894</td>\n",
       "      <td>-0.112404</td>\n",
       "      <td>-0.400143</td>\n",
       "      <td>0.360673</td>\n",
       "      <td>0.441839</td>\n",
       "      <td>0.342140</td>\n",
       "      <td>0.333274</td>\n",
       "      <td>0.342079</td>\n",
       "      <td>0.447424</td>\n",
       "      <td>0.410684</td>\n",
       "      <td>...</td>\n",
       "      <td>0.435237</td>\n",
       "      <td>0.370890</td>\n",
       "      <td>-0.598736</td>\n",
       "      <td>0.308567</td>\n",
       "      <td>1.000000</td>\n",
       "      <td>-0.110950</td>\n",
       "      <td>0.591117</td>\n",
       "      <td>0.479905</td>\n",
       "      <td>0.236931</td>\n",
       "      <td>0.545886</td>\n",
       "    </tr>\n",
       "    <tr>\n",
       "      <th>DFA</th>\n",
       "      <td>-0.446013</td>\n",
       "      <td>-0.343097</td>\n",
       "      <td>-0.050406</td>\n",
       "      <td>0.098572</td>\n",
       "      <td>0.175036</td>\n",
       "      <td>0.064083</td>\n",
       "      <td>0.196301</td>\n",
       "      <td>0.064026</td>\n",
       "      <td>0.159954</td>\n",
       "      <td>0.165157</td>\n",
       "      <td>...</td>\n",
       "      <td>0.151132</td>\n",
       "      <td>-0.131882</td>\n",
       "      <td>-0.008665</td>\n",
       "      <td>0.231739</td>\n",
       "      <td>-0.110950</td>\n",
       "      <td>1.000000</td>\n",
       "      <td>0.195668</td>\n",
       "      <td>0.166548</td>\n",
       "      <td>-0.165381</td>\n",
       "      <td>0.270445</td>\n",
       "    </tr>\n",
       "    <tr>\n",
       "      <th>spread1</th>\n",
       "      <td>-0.413738</td>\n",
       "      <td>-0.076658</td>\n",
       "      <td>-0.394857</td>\n",
       "      <td>0.693577</td>\n",
       "      <td>0.735779</td>\n",
       "      <td>0.648328</td>\n",
       "      <td>0.716489</td>\n",
       "      <td>0.648328</td>\n",
       "      <td>0.654734</td>\n",
       "      <td>0.652547</td>\n",
       "      <td>...</td>\n",
       "      <td>0.610971</td>\n",
       "      <td>0.540865</td>\n",
       "      <td>-0.673210</td>\n",
       "      <td>0.564838</td>\n",
       "      <td>0.591117</td>\n",
       "      <td>0.195668</td>\n",
       "      <td>1.000000</td>\n",
       "      <td>0.652358</td>\n",
       "      <td>0.495123</td>\n",
       "      <td>0.962435</td>\n",
       "    </tr>\n",
       "    <tr>\n",
       "      <th>spread2</th>\n",
       "      <td>-0.249450</td>\n",
       "      <td>-0.002954</td>\n",
       "      <td>-0.243829</td>\n",
       "      <td>0.385123</td>\n",
       "      <td>0.388543</td>\n",
       "      <td>0.324407</td>\n",
       "      <td>0.407605</td>\n",
       "      <td>0.324377</td>\n",
       "      <td>0.452025</td>\n",
       "      <td>0.454314</td>\n",
       "      <td>...</td>\n",
       "      <td>0.402223</td>\n",
       "      <td>0.318099</td>\n",
       "      <td>-0.431564</td>\n",
       "      <td>0.454842</td>\n",
       "      <td>0.479905</td>\n",
       "      <td>0.166548</td>\n",
       "      <td>0.652358</td>\n",
       "      <td>1.000000</td>\n",
       "      <td>0.523532</td>\n",
       "      <td>0.644711</td>\n",
       "    </tr>\n",
       "    <tr>\n",
       "      <th>D2</th>\n",
       "      <td>0.177980</td>\n",
       "      <td>0.176323</td>\n",
       "      <td>-0.100629</td>\n",
       "      <td>0.433434</td>\n",
       "      <td>0.310694</td>\n",
       "      <td>0.426605</td>\n",
       "      <td>0.412524</td>\n",
       "      <td>0.426556</td>\n",
       "      <td>0.507088</td>\n",
       "      <td>0.512233</td>\n",
       "      <td>...</td>\n",
       "      <td>0.467261</td>\n",
       "      <td>0.470949</td>\n",
       "      <td>-0.601401</td>\n",
       "      <td>0.340232</td>\n",
       "      <td>0.236931</td>\n",
       "      <td>-0.165381</td>\n",
       "      <td>0.495123</td>\n",
       "      <td>0.523532</td>\n",
       "      <td>1.000000</td>\n",
       "      <td>0.480585</td>\n",
       "    </tr>\n",
       "    <tr>\n",
       "      <th>PPE</th>\n",
       "      <td>-0.372356</td>\n",
       "      <td>-0.069543</td>\n",
       "      <td>-0.340071</td>\n",
       "      <td>0.721543</td>\n",
       "      <td>0.748162</td>\n",
       "      <td>0.670999</td>\n",
       "      <td>0.769647</td>\n",
       "      <td>0.671005</td>\n",
       "      <td>0.693771</td>\n",
       "      <td>0.695058</td>\n",
       "      <td>...</td>\n",
       "      <td>0.645389</td>\n",
       "      <td>0.552591</td>\n",
       "      <td>-0.692876</td>\n",
       "      <td>0.531039</td>\n",
       "      <td>0.545886</td>\n",
       "      <td>0.270445</td>\n",
       "      <td>0.962435</td>\n",
       "      <td>0.644711</td>\n",
       "      <td>0.480585</td>\n",
       "      <td>1.000000</td>\n",
       "    </tr>\n",
       "  </tbody>\n",
       "</table>\n",
       "<p>23 rows × 23 columns</p>\n",
       "</div>"
      ],
      "text/plain": [
       "                  MDVP:Fo(Hz)  MDVP:Fhi(Hz)  MDVP:Flo(Hz)  MDVP:Jitter(%)  \\\n",
       "MDVP:Fo(Hz)          1.000000      0.400985      0.596546       -0.118003   \n",
       "MDVP:Fhi(Hz)         0.400985      1.000000      0.084951        0.102086   \n",
       "MDVP:Flo(Hz)         0.596546      0.084951      1.000000       -0.139919   \n",
       "MDVP:Jitter(%)      -0.118003      0.102086     -0.139919        1.000000   \n",
       "MDVP:Jitter(Abs)    -0.382027     -0.029198     -0.277815        0.935714   \n",
       "MDVP:RAP            -0.076194      0.097177     -0.100519        0.990276   \n",
       "MDVP:PPQ            -0.112165      0.091126     -0.095828        0.974256   \n",
       "Jitter:DDP          -0.076213      0.097150     -0.100488        0.990276   \n",
       "MDVP:Shimmer        -0.098374      0.002281     -0.144543        0.769063   \n",
       "MDVP:Shimmer(dB)    -0.073742      0.043465     -0.119089        0.804289   \n",
       "Shimmer:APQ3        -0.094717     -0.003743     -0.150747        0.746625   \n",
       "Shimmer:APQ5        -0.070682     -0.009997     -0.101095        0.725561   \n",
       "MDVP:APQ            -0.077774      0.004937     -0.107293        0.758255   \n",
       "Shimmer:DDA         -0.094732     -0.003733     -0.150737        0.746635   \n",
       "NHR                 -0.021981      0.163766     -0.108670        0.906959   \n",
       "HNR                  0.059144     -0.024893      0.210851       -0.728165   \n",
       "status              -0.383535     -0.166136     -0.380200        0.278220   \n",
       "RPDE                -0.383894     -0.112404     -0.400143        0.360673   \n",
       "DFA                 -0.446013     -0.343097     -0.050406        0.098572   \n",
       "spread1             -0.413738     -0.076658     -0.394857        0.693577   \n",
       "spread2             -0.249450     -0.002954     -0.243829        0.385123   \n",
       "D2                   0.177980      0.176323     -0.100629        0.433434   \n",
       "PPE                 -0.372356     -0.069543     -0.340071        0.721543   \n",
       "\n",
       "                  MDVP:Jitter(Abs)  MDVP:RAP  MDVP:PPQ  Jitter:DDP  \\\n",
       "MDVP:Fo(Hz)              -0.382027 -0.076194 -0.112165   -0.076213   \n",
       "MDVP:Fhi(Hz)             -0.029198  0.097177  0.091126    0.097150   \n",
       "MDVP:Flo(Hz)             -0.277815 -0.100519 -0.095828   -0.100488   \n",
       "MDVP:Jitter(%)            0.935714  0.990276  0.974256    0.990276   \n",
       "MDVP:Jitter(Abs)          1.000000  0.922911  0.897778    0.922913   \n",
       "MDVP:RAP                  0.922911  1.000000  0.957317    1.000000   \n",
       "MDVP:PPQ                  0.897778  0.957317  1.000000    0.957319   \n",
       "Jitter:DDP                0.922913  1.000000  0.957319    1.000000   \n",
       "MDVP:Shimmer              0.703322  0.759581  0.797826    0.759555   \n",
       "MDVP:Shimmer(dB)          0.716601  0.790652  0.839239    0.790621   \n",
       "Shimmer:APQ3              0.697153  0.744912  0.763580    0.744894   \n",
       "Shimmer:APQ5              0.648961  0.709927  0.786780    0.709907   \n",
       "MDVP:APQ                  0.648793  0.737455  0.804139    0.737439   \n",
       "Shimmer:DDA               0.697170  0.744919  0.763592    0.744901   \n",
       "NHR                       0.834972  0.919521  0.844604    0.919548   \n",
       "HNR                      -0.656810 -0.721543 -0.731510   -0.721494   \n",
       "status                    0.338653  0.266668  0.288698    0.266646   \n",
       "RPDE                      0.441839  0.342140  0.333274    0.342079   \n",
       "DFA                       0.175036  0.064083  0.196301    0.064026   \n",
       "spread1                   0.735779  0.648328  0.716489    0.648328   \n",
       "spread2                   0.388543  0.324407  0.407605    0.324377   \n",
       "D2                        0.310694  0.426605  0.412524    0.426556   \n",
       "PPE                       0.748162  0.670999  0.769647    0.671005   \n",
       "\n",
       "                  MDVP:Shimmer  MDVP:Shimmer(dB)  ...  Shimmer:DDA       NHR  \\\n",
       "MDVP:Fo(Hz)          -0.098374         -0.073742  ...    -0.094732 -0.021981   \n",
       "MDVP:Fhi(Hz)          0.002281          0.043465  ...    -0.003733  0.163766   \n",
       "MDVP:Flo(Hz)         -0.144543         -0.119089  ...    -0.150737 -0.108670   \n",
       "MDVP:Jitter(%)        0.769063          0.804289  ...     0.746635  0.906959   \n",
       "MDVP:Jitter(Abs)      0.703322          0.716601  ...     0.697170  0.834972   \n",
       "MDVP:RAP              0.759581          0.790652  ...     0.744919  0.919521   \n",
       "MDVP:PPQ              0.797826          0.839239  ...     0.763592  0.844604   \n",
       "Jitter:DDP            0.759555          0.790621  ...     0.744901  0.919548   \n",
       "MDVP:Shimmer          1.000000          0.987258  ...     0.987626  0.722194   \n",
       "MDVP:Shimmer(dB)      0.987258          1.000000  ...     0.963202  0.744477   \n",
       "Shimmer:APQ3          0.987625          0.963198  ...     1.000000  0.716207   \n",
       "Shimmer:APQ5          0.982835          0.973751  ...     0.960072  0.658080   \n",
       "MDVP:APQ              0.950083          0.960977  ...     0.896647  0.694019   \n",
       "Shimmer:DDA           0.987626          0.963202  ...     1.000000  0.716215   \n",
       "NHR                   0.722194          0.744477  ...     0.716215  1.000000   \n",
       "HNR                  -0.835271         -0.827805  ...    -0.827130 -0.714072   \n",
       "status                0.367430          0.350697  ...     0.347608  0.189429   \n",
       "RPDE                  0.447424          0.410684  ...     0.435237  0.370890   \n",
       "DFA                   0.159954          0.165157  ...     0.151132 -0.131882   \n",
       "spread1               0.654734          0.652547  ...     0.610971  0.540865   \n",
       "spread2               0.452025          0.454314  ...     0.402223  0.318099   \n",
       "D2                    0.507088          0.512233  ...     0.467261  0.470949   \n",
       "PPE                   0.693771          0.695058  ...     0.645389  0.552591   \n",
       "\n",
       "                       HNR    status      RPDE       DFA   spread1   spread2  \\\n",
       "MDVP:Fo(Hz)       0.059144 -0.383535 -0.383894 -0.446013 -0.413738 -0.249450   \n",
       "MDVP:Fhi(Hz)     -0.024893 -0.166136 -0.112404 -0.343097 -0.076658 -0.002954   \n",
       "MDVP:Flo(Hz)      0.210851 -0.380200 -0.400143 -0.050406 -0.394857 -0.243829   \n",
       "MDVP:Jitter(%)   -0.728165  0.278220  0.360673  0.098572  0.693577  0.385123   \n",
       "MDVP:Jitter(Abs) -0.656810  0.338653  0.441839  0.175036  0.735779  0.388543   \n",
       "MDVP:RAP         -0.721543  0.266668  0.342140  0.064083  0.648328  0.324407   \n",
       "MDVP:PPQ         -0.731510  0.288698  0.333274  0.196301  0.716489  0.407605   \n",
       "Jitter:DDP       -0.721494  0.266646  0.342079  0.064026  0.648328  0.324377   \n",
       "MDVP:Shimmer     -0.835271  0.367430  0.447424  0.159954  0.654734  0.452025   \n",
       "MDVP:Shimmer(dB) -0.827805  0.350697  0.410684  0.165157  0.652547  0.454314   \n",
       "Shimmer:APQ3     -0.827123  0.347617  0.435242  0.151124  0.610967  0.402243   \n",
       "Shimmer:APQ5     -0.813753  0.351148  0.399903  0.213873  0.646809  0.457195   \n",
       "MDVP:APQ         -0.800407  0.364316  0.451379  0.157276  0.673158  0.502188   \n",
       "Shimmer:DDA      -0.827130  0.347608  0.435237  0.151132  0.610971  0.402223   \n",
       "NHR              -0.714072  0.189429  0.370890 -0.131882  0.540865  0.318099   \n",
       "HNR               1.000000 -0.361515 -0.598736 -0.008665 -0.673210 -0.431564   \n",
       "status           -0.361515  1.000000  0.308567  0.231739  0.564838  0.454842   \n",
       "RPDE             -0.598736  0.308567  1.000000 -0.110950  0.591117  0.479905   \n",
       "DFA              -0.008665  0.231739 -0.110950  1.000000  0.195668  0.166548   \n",
       "spread1          -0.673210  0.564838  0.591117  0.195668  1.000000  0.652358   \n",
       "spread2          -0.431564  0.454842  0.479905  0.166548  0.652358  1.000000   \n",
       "D2               -0.601401  0.340232  0.236931 -0.165381  0.495123  0.523532   \n",
       "PPE              -0.692876  0.531039  0.545886  0.270445  0.962435  0.644711   \n",
       "\n",
       "                        D2       PPE  \n",
       "MDVP:Fo(Hz)       0.177980 -0.372356  \n",
       "MDVP:Fhi(Hz)      0.176323 -0.069543  \n",
       "MDVP:Flo(Hz)     -0.100629 -0.340071  \n",
       "MDVP:Jitter(%)    0.433434  0.721543  \n",
       "MDVP:Jitter(Abs)  0.310694  0.748162  \n",
       "MDVP:RAP          0.426605  0.670999  \n",
       "MDVP:PPQ          0.412524  0.769647  \n",
       "Jitter:DDP        0.426556  0.671005  \n",
       "MDVP:Shimmer      0.507088  0.693771  \n",
       "MDVP:Shimmer(dB)  0.512233  0.695058  \n",
       "Shimmer:APQ3      0.467265  0.645377  \n",
       "Shimmer:APQ5      0.502174  0.702456  \n",
       "MDVP:APQ          0.536869  0.721694  \n",
       "Shimmer:DDA       0.467261  0.645389  \n",
       "NHR               0.470949  0.552591  \n",
       "HNR              -0.601401 -0.692876  \n",
       "status            0.340232  0.531039  \n",
       "RPDE              0.236931  0.545886  \n",
       "DFA              -0.165381  0.270445  \n",
       "spread1           0.495123  0.962435  \n",
       "spread2           0.523532  0.644711  \n",
       "D2                1.000000  0.480585  \n",
       "PPE               0.480585  1.000000  \n",
       "\n",
       "[23 rows x 23 columns]"
      ]
     },
     "execution_count": 11,
     "metadata": {},
     "output_type": "execute_result"
    }
   ],
   "source": [
    "data.corr()"
   ]
  },
  {
   "cell_type": "markdown",
   "metadata": {},
   "source": [
    "## Handling Outliers"
   ]
  },
  {
   "cell_type": "code",
   "execution_count": 12,
   "metadata": {},
   "outputs": [],
   "source": [
    "# Q1 = np.percentile(data['MDVP:Jitter(%)'],25)\n",
    "# Q3 = np.percentile(data['MDVP:Jitter(%)'],75)\n",
    "# IQR = Q3 - Q1\n",
    "\n",
    "# lower_limit = Q1 - 1.5*IQR\n",
    "# upper_limit = Q3 + 1.5*IQR"
   ]
  },
  {
   "cell_type": "code",
   "execution_count": 13,
   "metadata": {},
   "outputs": [],
   "source": [
    "# data = data[(data['MDVP:Jitter(%)'] >= lower_limit) & (data['MDVP:Jitter(%)'] <= upper_limit)]"
   ]
  },
  {
   "cell_type": "code",
   "execution_count": 14,
   "metadata": {},
   "outputs": [],
   "source": [
    "# data.shape"
   ]
  },
  {
   "cell_type": "code",
   "execution_count": 15,
   "metadata": {},
   "outputs": [],
   "source": [
    "data = data.drop('name', axis=1)"
   ]
  },
  {
   "cell_type": "code",
   "execution_count": 16,
   "metadata": {},
   "outputs": [],
   "source": [
    "X = data.drop('status', axis=1)\n",
    "y = data['status']"
   ]
  },
  {
   "cell_type": "code",
   "execution_count": 17,
   "metadata": {},
   "outputs": [],
   "source": [
    "from sklearn.model_selection import train_test_split"
   ]
  },
  {
   "cell_type": "code",
   "execution_count": 18,
   "metadata": {},
   "outputs": [],
   "source": [
    "X_train, X_test, y_train, y_test = train_test_split(X,y,test_size=0.2,random_state=0)"
   ]
  },
  {
   "cell_type": "markdown",
   "metadata": {},
   "source": [
    "# Model Building"
   ]
  },
  {
   "cell_type": "markdown",
   "metadata": {},
   "source": [
    "## Random Forest"
   ]
  },
  {
   "cell_type": "code",
   "execution_count": 19,
   "metadata": {},
   "outputs": [],
   "source": [
    "from sklearn.ensemble import RandomForestClassifier"
   ]
  },
  {
   "cell_type": "code",
   "execution_count": 20,
   "metadata": {},
   "outputs": [],
   "source": [
    "rfc = RandomForestClassifier()"
   ]
  },
  {
   "cell_type": "code",
   "execution_count": 21,
   "metadata": {},
   "outputs": [
    {
     "data": {
      "text/plain": [
       "RandomForestClassifier()"
      ]
     },
     "execution_count": 21,
     "metadata": {},
     "output_type": "execute_result"
    }
   ],
   "source": [
    "rfc.fit(X_train, y_train)"
   ]
  },
  {
   "cell_type": "code",
   "execution_count": 56,
   "metadata": {},
   "outputs": [],
   "source": [
    "from sklearn.metrics import confusion_matrix, plot_confusion_matrix, classification_report, accuracy_score"
   ]
  },
  {
   "cell_type": "code",
   "execution_count": 23,
   "metadata": {},
   "outputs": [
    {
     "data": {
      "text/plain": [
       "<sklearn.metrics._plot.confusion_matrix.ConfusionMatrixDisplay at 0x122b906d0>"
      ]
     },
     "execution_count": 23,
     "metadata": {},
     "output_type": "execute_result"
    },
    {
     "data": {
      "image/png": "[encoded data removed]",
      "text/plain": [
       "<Figure size 432x288 with 2 Axes>"
      ]
     },
     "metadata": {
      "needs_background": "light"
     },
     "output_type": "display_data"
    }
   ],
   "source": [
    "plot_confusion_matrix(estimator=rfc, X=X_test, y_true=y_test, display_labels=['Doesnot have parkinsons', 'Has parkinsons'])"
   ]
  },
  {
   "cell_type": "code",
   "execution_count": 24,
   "metadata": {},
   "outputs": [
    {
     "name": "stdout",
     "output_type": "stream",
     "text": [
      "              precision    recall  f1-score   support\n",
      "\n",
      "           0       0.90      0.90      0.90        10\n",
      "           1       0.97      0.97      0.97        29\n",
      "\n",
      "    accuracy                           0.95        39\n",
      "   macro avg       0.93      0.93      0.93        39\n",
      "weighted avg       0.95      0.95      0.95        39\n",
      "\n"
     ]
    }
   ],
   "source": [
    "print(classification_report(y_test, rfc.predict(X_test)))"
   ]
  },
  {
   "cell_type": "markdown",
   "metadata": {},
   "source": [
    "### Hyperparameter Tuning"
   ]
  },
  {
   "cell_type": "code",
   "execution_count": 25,
   "metadata": {},
   "outputs": [],
   "source": [
    "from sklearn.model_selection import RandomizedSearchCV, GridSearchCV"
   ]
  },
  {
   "cell_type": "code",
   "execution_count": 26,
   "metadata": {},
   "outputs": [],
   "source": [
    "n_estimators = [int(x) for x in np.linspace(start = 100, stop = 1200, num = 12)]\n",
    "max_features = ['auto', 'sqrt']\n",
    "max_depth = [int(x) for x in np.linspace(5, 30, num = 6)]\n",
    "min_samples_split = [2, 5, 10, 15, 100]\n",
    "min_samples_leaf = [1, 2, 5, 10]\n",
    "\n",
    "rfc_ran_cv_parameters = {'n_estimators': n_estimators,\n",
    "               'max_features': max_features,\n",
    "               'max_depth': max_depth,\n",
    "               'min_samples_split': min_samples_split,\n",
    "               'min_samples_leaf': min_samples_leaf,\n",
    "                'bootstrap':[True, False]}"
   ]
  },
  {
   "cell_type": "code",
   "execution_count": 27,
   "metadata": {},
   "outputs": [],
   "source": [
    "rfc_ran_cv = RandomizedSearchCV(estimator=rfc, param_distributions=rfc_ran_cv_parameters, cv=10, n_jobs=-1, verbose=2)"
   ]
  },
  {
   "cell_type": "code",
   "execution_count": 28,
   "metadata": {},
   "outputs": [
    {
     "name": "stdout",
     "output_type": "stream",
     "text": [
      "Fitting 10 folds for each of 10 candidates, totalling 100 fits\n"
     ]
    },
    {
     "name": "stderr",
     "output_type": "stream",
     "text": [
      "[Parallel(n_jobs=-1)]: Using backend LokyBackend with 4 concurrent workers.\n",
      "[Parallel(n_jobs=-1)]: Done  33 tasks      | elapsed:   18.4s\n",
      "[Parallel(n_jobs=-1)]: Done 100 out of 100 | elapsed:   52.7s finished\n"
     ]
    },
    {
     "data": {
      "text/plain": [
       "RandomizedSearchCV(cv=10, estimator=RandomForestClassifier(), n_jobs=-1,\n",
       "                   param_distributions={'bootstrap': [True, False],\n",
       "                                        'max_depth': [5, 10, 15, 20, 25, 30],\n",
       "                                        'max_features': ['auto', 'sqrt'],\n",
       "                                        'min_samples_leaf': [1, 2, 5, 10],\n",
       "                                        'min_samples_split': [2, 5, 10, 15,\n",
       "                                                              100],\n",
       "                                        'n_estimators': [100, 200, 300, 400,\n",
       "                                                         500, 600, 700, 800,\n",
       "                                                         900, 1000, 1100,\n",
       "                                                         1200]},\n",
       "                   verbose=2)"
      ]
     },
     "execution_count": 28,
     "metadata": {},
     "output_type": "execute_result"
    }
   ],
   "source": [
    "rfc_ran_cv.fit(X_train, y_train)"
   ]
  },
  {
   "cell_type": "code",
   "execution_count": 29,
   "metadata": {},
   "outputs": [
    {
     "data": {
      "text/plain": [
       "RandomForestClassifier(max_depth=15, min_samples_leaf=2, n_estimators=900)"
      ]
     },
     "execution_count": 29,
     "metadata": {},
     "output_type": "execute_result"
    }
   ],
   "source": [
    "rfc_ran_cv.best_estimator_"
   ]
  },
  {
   "cell_type": "code",
   "execution_count": 30,
   "metadata": {},
   "outputs": [
    {
     "data": {
      "text/plain": [
       "{'n_estimators': 900,\n",
       " 'min_samples_split': 2,\n",
       " 'min_samples_leaf': 2,\n",
       " 'max_features': 'auto',\n",
       " 'max_depth': 15,\n",
       " 'bootstrap': True}"
      ]
     },
     "execution_count": 30,
     "metadata": {},
     "output_type": "execute_result"
    }
   ],
   "source": [
    "rfc_ran_cv.best_params_"
   ]
  },
  {
   "cell_type": "code",
   "execution_count": 31,
   "metadata": {},
   "outputs": [
    {
     "data": {
      "text/plain": [
       "<sklearn.metrics._plot.confusion_matrix.ConfusionMatrixDisplay at 0x124af65e0>"
      ]
     },
     "execution_count": 31,
     "metadata": {},
     "output_type": "execute_result"
    },
    {
     "data": {
      "image/png": "[encoded data removed]",
      "text/plain": [
       "<Figure size 432x288 with 2 Axes>"
      ]
     },
     "metadata": {
      "needs_background": "light"
     },
     "output_type": "display_data"
    }
   ],
   "source": [
    "plot_confusion_matrix(estimator=rfc_ran_cv, X=X_test, y_true=y_test, display_labels=['Doesnot have parkinsons', 'Has parkinsons'])"
   ]
  },
  {
   "cell_type": "code",
   "execution_count": 32,
   "metadata": {},
   "outputs": [
    {
     "name": "stdout",
     "output_type": "stream",
     "text": [
      "              precision    recall  f1-score   support\n",
      "\n",
      "           0       0.89      0.80      0.84        10\n",
      "           1       0.93      0.97      0.95        29\n",
      "\n",
      "    accuracy                           0.92        39\n",
      "   macro avg       0.91      0.88      0.90        39\n",
      "weighted avg       0.92      0.92      0.92        39\n",
      "\n"
     ]
    }
   ],
   "source": [
    "print(classification_report(y_test, rfc_ran_cv.predict(X_test)))"
   ]
  },
  {
   "cell_type": "markdown",
   "metadata": {},
   "source": [
    "## XGBoost"
   ]
  },
  {
   "cell_type": "code",
   "execution_count": 33,
   "metadata": {},
   "outputs": [],
   "source": [
    "from xgboost import XGBClassifier"
   ]
  },
  {
   "cell_type": "code",
   "execution_count": 34,
   "metadata": {},
   "outputs": [],
   "source": [
    "xgbc = XGBClassifier()"
   ]
  },
  {
   "cell_type": "code",
   "execution_count": 35,
   "metadata": {},
   "outputs": [
    {
     "name": "stdout",
     "output_type": "stream",
     "text": [
      "[16:43:36] WARNING: /opt/concourse/worker/volumes/live/7a2b9f41-3287-451b-6691-43e9a6c0910f/volume/xgboost-split_1619728204606/work/src/learner.cc:1061: Starting in XGBoost 1.3.0, the default evaluation metric used with the objective 'binary:logistic' was changed from 'error' to 'logloss'. Explicitly set eval_metric if you'd like to restore the old behavior.\n"
     ]
    },
    {
     "name": "stderr",
     "output_type": "stream",
     "text": [
      "/opt/anaconda3/lib/python3.8/site-packages/xgboost/sklearn.py:888: UserWarning: The use of label encoder in XGBClassifier is deprecated and will be removed in a future release. To remove this warning, do the following: 1) Pass option use_label_encoder=False when constructing XGBClassifier object; and 2) Encode your labels (y) as integers starting with 0, i.e. 0, 1, 2, ..., [num_class - 1].\n",
      "  warnings.warn(label_encoder_deprecation_msg, UserWarning)\n"
     ]
    },
    {
     "data": {
      "text/plain": [
       "XGBClassifier(base_score=0.5, booster='gbtree', colsample_bylevel=1,\n",
       "              colsample_bynode=1, colsample_bytree=1, gamma=0, gpu_id=-1,\n",
       "              importance_type='gain', interaction_constraints='',\n",
       "              learning_rate=0.300000012, max_delta_step=0, max_depth=6,\n",
       "              min_child_weight=1, missing=nan, monotone_constraints='()',\n",
       "              n_estimators=100, n_jobs=4, num_parallel_tree=1, random_state=0,\n",
       "              reg_alpha=0, reg_lambda=1, scale_pos_weight=1, subsample=1,\n",
       "              tree_method='exact', validate_parameters=1, verbosity=None)"
      ]
     },
     "execution_count": 35,
     "metadata": {},
     "output_type": "execute_result"
    }
   ],
   "source": [
    "xgbc.fit(X_train, y_train)"
   ]
  },
  {
   "cell_type": "code",
   "execution_count": 36,
   "metadata": {},
   "outputs": [
    {
     "data": {
      "text/plain": [
       "<sklearn.metrics._plot.confusion_matrix.ConfusionMatrixDisplay at 0x122e814c0>"
      ]
     },
     "execution_count": 36,
     "metadata": {},
     "output_type": "execute_result"
    },
    {
     "data": {
      "image/png": "[encoded data removed]",
      "text/plain": [
       "<Figure size 432x288 with 2 Axes>"
      ]
     },
     "metadata": {
      "needs_background": "light"
     },
     "output_type": "display_data"
    }
   ],
   "source": [
    "plot_confusion_matrix(estimator=xgbc, X=X_test, y_true=y_test, display_labels=['Doesnot have parkinsons', 'Has parkinsons'])"
   ]
  },
  {
   "cell_type": "code",
   "execution_count": 37,
   "metadata": {},
   "outputs": [
    {
     "name": "stdout",
     "output_type": "stream",
     "text": [
      "              precision    recall  f1-score   support\n",
      "\n",
      "           0       0.83      1.00      0.91        10\n",
      "           1       1.00      0.93      0.96        29\n",
      "\n",
      "    accuracy                           0.95        39\n",
      "   macro avg       0.92      0.97      0.94        39\n",
      "weighted avg       0.96      0.95      0.95        39\n",
      "\n"
     ]
    }
   ],
   "source": [
    "print(classification_report(y_test, xgbc.predict(X_test)))"
   ]
  },
  {
   "cell_type": "markdown",
   "metadata": {},
   "source": [
    "### Hyperparameter Tuning"
   ]
  },
  {
   "cell_type": "code",
   "execution_count": 38,
   "metadata": {},
   "outputs": [],
   "source": [
    "xgbc_ran_cv_parameters = {'max_depth': np.arange(2, 12, 2),  \n",
    "              'alpha': [0, .001, .01, .1],\n",
    "              'learning_rate': np.linspace(0.001, 0.6, 15),\n",
    "              'colsample_bytree': np.linspace(0.1, 1, 5),\n",
    "              'subsample': np.linspace(0.25, 1, 15),\n",
    "              'n_estimators': np.arange(10, 200, 15),\n",
    "              'min_child_weight':[1,3,5]}"
   ]
  },
  {
   "cell_type": "code",
   "execution_count": 39,
   "metadata": {},
   "outputs": [],
   "source": [
    "xgbc_ran_cv = RandomizedSearchCV(estimator=xgbc, param_distributions=xgbc_ran_cv_parameters, cv=10, n_jobs=-1, verbose=2)"
   ]
  },
  {
   "cell_type": "code",
   "execution_count": 40,
   "metadata": {},
   "outputs": [
    {
     "name": "stdout",
     "output_type": "stream",
     "text": [
      "Fitting 10 folds for each of 10 candidates, totalling 100 fits\n"
     ]
    },
    {
     "name": "stderr",
     "output_type": "stream",
     "text": [
      "[Parallel(n_jobs=-1)]: Using backend LokyBackend with 4 concurrent workers.\n",
      "[Parallel(n_jobs=-1)]: Done  33 tasks      | elapsed:    1.4s\n"
     ]
    },
    {
     "name": "stdout",
     "output_type": "stream",
     "text": [
      "[16:43:40] WARNING: /opt/concourse/worker/volumes/live/7a2b9f41-3287-451b-6691-43e9a6c0910f/volume/xgboost-split_1619728204606/work/src/learner.cc:1061: Starting in XGBoost 1.3.0, the default evaluation metric used with the objective 'binary:logistic' was changed from 'error' to 'logloss'. Explicitly set eval_metric if you'd like to restore the old behavior.\n"
     ]
    },
    {
     "name": "stderr",
     "output_type": "stream",
     "text": [
      "[Parallel(n_jobs=-1)]: Done 100 out of 100 | elapsed:    3.7s finished\n",
      "/opt/anaconda3/lib/python3.8/site-packages/xgboost/sklearn.py:888: UserWarning: The use of label encoder in XGBClassifier is deprecated and will be removed in a future release. To remove this warning, do the following: 1) Pass option use_label_encoder=False when constructing XGBClassifier object; and 2) Encode your labels (y) as integers starting with 0, i.e. 0, 1, 2, ..., [num_class - 1].\n",
      "  warnings.warn(label_encoder_deprecation_msg, UserWarning)\n"
     ]
    },
    {
     "data": {
      "text/plain": [
       "RandomizedSearchCV(cv=10,\n",
       "                   estimator=XGBClassifier(base_score=0.5, booster='gbtree',\n",
       "                                           colsample_bylevel=1,\n",
       "                                           colsample_bynode=1,\n",
       "                                           colsample_bytree=1, gamma=0,\n",
       "                                           gpu_id=-1, importance_type='gain',\n",
       "                                           interaction_constraints='',\n",
       "                                           learning_rate=0.300000012,\n",
       "                                           max_delta_step=0, max_depth=6,\n",
       "                                           min_child_weight=1, missing=nan,\n",
       "                                           monotone_constraints='()',\n",
       "                                           n_estimators=100, n_jobs=4,\n",
       "                                           num_p...\n",
       "       0.42885714, 0.47164286, 0.51442857, 0.55721429, 0.6       ]),\n",
       "                                        'max_depth': array([ 2,  4,  6,  8, 10]),\n",
       "                                        'min_child_weight': [1, 3, 5],\n",
       "                                        'n_estimators': array([ 10,  25,  40,  55,  70,  85, 100, 115, 130, 145, 160, 175, 190]),\n",
       "                                        'subsample': array([0.25      , 0.30357143, 0.35714286, 0.41071429, 0.46428571,\n",
       "       0.51785714, 0.57142857, 0.625     , 0.67857143, 0.73214286,\n",
       "       0.78571429, 0.83928571, 0.89285714, 0.94642857, 1.        ])},\n",
       "                   verbose=2)"
      ]
     },
     "execution_count": 40,
     "metadata": {},
     "output_type": "execute_result"
    }
   ],
   "source": [
    "xgbc_ran_cv.fit(X_train, y_train)"
   ]
  },
  {
   "cell_type": "code",
   "execution_count": 41,
   "metadata": {},
   "outputs": [
    {
     "data": {
      "text/plain": [
       "<sklearn.metrics._plot.confusion_matrix.ConfusionMatrixDisplay at 0x122a52070>"
      ]
     },
     "execution_count": 41,
     "metadata": {},
     "output_type": "execute_result"
    },
    {
     "data": {
      "image/png": "[encoded data removed]",
      "text/plain": [
       "<Figure size 432x288 with 2 Axes>"
      ]
     },
     "metadata": {
      "needs_background": "light"
     },
     "output_type": "display_data"
    }
   ],
   "source": [
    "plot_confusion_matrix(estimator=xgbc_ran_cv, X=X_test, y_true=y_test, display_labels=['Doesnot have parkinsons', 'Has parkinsons'])"
   ]
  },
  {
   "cell_type": "code",
   "execution_count": 42,
   "metadata": {},
   "outputs": [
    {
     "name": "stdout",
     "output_type": "stream",
     "text": [
      "              precision    recall  f1-score   support\n",
      "\n",
      "           0       1.00      0.70      0.82        10\n",
      "           1       0.91      1.00      0.95        29\n",
      "\n",
      "    accuracy                           0.92        39\n",
      "   macro avg       0.95      0.85      0.89        39\n",
      "weighted avg       0.93      0.92      0.92        39\n",
      "\n"
     ]
    }
   ],
   "source": [
    "print(classification_report(y_test, xgbc_ran_cv.predict(X_test)))"
   ]
  },
  {
   "cell_type": "markdown",
   "metadata": {},
   "source": [
    "## ExtraTrees"
   ]
  },
  {
   "cell_type": "code",
   "execution_count": 43,
   "metadata": {},
   "outputs": [],
   "source": [
    "from sklearn.ensemble import ExtraTreesClassifier"
   ]
  },
  {
   "cell_type": "code",
   "execution_count": 44,
   "metadata": {},
   "outputs": [],
   "source": [
    "etc = ExtraTreesClassifier()"
   ]
  },
  {
   "cell_type": "code",
   "execution_count": 45,
   "metadata": {},
   "outputs": [
    {
     "data": {
      "text/plain": [
       "ExtraTreesClassifier()"
      ]
     },
     "execution_count": 45,
     "metadata": {},
     "output_type": "execute_result"
    }
   ],
   "source": [
    "etc.fit(X_train, y_train)"
   ]
  },
  {
   "cell_type": "code",
   "execution_count": 46,
   "metadata": {},
   "outputs": [
    {
     "data": {
      "text/plain": [
       "<sklearn.metrics._plot.confusion_matrix.ConfusionMatrixDisplay at 0x1228db9d0>"
      ]
     },
     "execution_count": 46,
     "metadata": {},
     "output_type": "execute_result"
    },
    {
     "data": {
      "image/png": "[encoded data removed]",
      "text/plain": [
       "<Figure size 432x288 with 2 Axes>"
      ]
     },
     "metadata": {
      "needs_background": "light"
     },
     "output_type": "display_data"
    }
   ],
   "source": [
    "plot_confusion_matrix(estimator=etc, X=X_test, y_true=y_test, display_labels=['Doesnot have parkinsons', 'Has parkinsons'])"
   ]
  },
  {
   "cell_type": "code",
   "execution_count": 47,
   "metadata": {},
   "outputs": [
    {
     "name": "stdout",
     "output_type": "stream",
     "text": [
      "              precision    recall  f1-score   support\n",
      "\n",
      "           0       0.90      0.90      0.90        10\n",
      "           1       0.97      0.97      0.97        29\n",
      "\n",
      "    accuracy                           0.95        39\n",
      "   macro avg       0.93      0.93      0.93        39\n",
      "weighted avg       0.95      0.95      0.95        39\n",
      "\n"
     ]
    }
   ],
   "source": [
    "print(classification_report(y_test, etc.predict(X_test)))"
   ]
  },
  {
   "cell_type": "markdown",
   "metadata": {},
   "source": [
    "### Hyperparameter Tuning"
   ]
  },
  {
   "cell_type": "code",
   "execution_count": 48,
   "metadata": {},
   "outputs": [],
   "source": [
    "n_estimators = [int(x) for x in np.linspace(start = 100, stop = 1200, num = 12)]\n",
    "max_features = ['auto', 'sqrt']\n",
    "max_depth = [int(x) for x in np.linspace(5, 30, num = 6)]\n",
    "min_samples_split = [2, 5, 10, 15, 100]\n",
    "min_samples_leaf = [1, 2, 5, 10]\n",
    "\n",
    "etc_ran_cv_parameters = {'n_estimators': n_estimators,\n",
    "               'max_features': max_features,\n",
    "               'max_depth': max_depth,\n",
    "               'min_samples_split': min_samples_split,\n",
    "               'min_samples_leaf': min_samples_leaf,\n",
    "                'bootstrap':[True, False],\n",
    "                'criterion':['gini', 'entropy']}"
   ]
  },
  {
   "cell_type": "code",
   "execution_count": 49,
   "metadata": {},
   "outputs": [],
   "source": [
    "etc_ran_cv = RandomizedSearchCV(estimator=etc, param_distributions=etc_ran_cv_parameters, cv=10, n_jobs=-1, verbose=2)"
   ]
  },
  {
   "cell_type": "code",
   "execution_count": 50,
   "metadata": {},
   "outputs": [
    {
     "name": "stdout",
     "output_type": "stream",
     "text": [
      "Fitting 10 folds for each of 10 candidates, totalling 100 fits\n"
     ]
    },
    {
     "name": "stderr",
     "output_type": "stream",
     "text": [
      "[Parallel(n_jobs=-1)]: Using backend LokyBackend with 4 concurrent workers.\n",
      "[Parallel(n_jobs=-1)]: Done  33 tasks      | elapsed:   22.2s\n",
      "[Parallel(n_jobs=-1)]: Done 100 out of 100 | elapsed:   51.2s finished\n"
     ]
    },
    {
     "data": {
      "text/plain": [
       "RandomizedSearchCV(cv=10, estimator=ExtraTreesClassifier(), n_jobs=-1,\n",
       "                   param_distributions={'bootstrap': [True, False],\n",
       "                                        'criterion': ['gini', 'entropy'],\n",
       "                                        'max_depth': [5, 10, 15, 20, 25, 30],\n",
       "                                        'max_features': ['auto', 'sqrt'],\n",
       "                                        'min_samples_leaf': [1, 2, 5, 10],\n",
       "                                        'min_samples_split': [2, 5, 10, 15,\n",
       "                                                              100],\n",
       "                                        'n_estimators': [100, 200, 300, 400,\n",
       "                                                         500, 600, 700, 800,\n",
       "                                                         900, 1000, 1100,\n",
       "                                                         1200]},\n",
       "                   verbose=2)"
      ]
     },
     "execution_count": 50,
     "metadata": {},
     "output_type": "execute_result"
    }
   ],
   "source": [
    "etc_ran_cv.fit(X_train, y_train)"
   ]
  },
  {
   "cell_type": "code",
   "execution_count": 51,
   "metadata": {},
   "outputs": [
    {
     "data": {
      "text/plain": [
       "<sklearn.metrics._plot.confusion_matrix.ConfusionMatrixDisplay at 0x10cd49340>"
      ]
     },
     "execution_count": 51,
     "metadata": {},
     "output_type": "execute_result"
    },
    {
     "data": {
      "image/png": "[encoded data removed]",
      "text/plain": [
       "<Figure size 432x288 with 2 Axes>"
      ]
     },
     "metadata": {
      "needs_background": "light"
     },
     "output_type": "display_data"
    }
   ],
   "source": [
    "plot_confusion_matrix(estimator=etc_ran_cv, X=X_test, y_true=y_test, display_labels=['Doesnot have parkinsons', 'Has parkinsons'])"
   ]
  },
  {
   "cell_type": "code",
   "execution_count": 52,
   "metadata": {},
   "outputs": [
    {
     "name": "stdout",
     "output_type": "stream",
     "text": [
      "              precision    recall  f1-score   support\n",
      "\n",
      "           0       0.89      0.80      0.84        10\n",
      "           1       0.93      0.97      0.95        29\n",
      "\n",
      "    accuracy                           0.92        39\n",
      "   macro avg       0.91      0.88      0.90        39\n",
      "weighted avg       0.92      0.92      0.92        39\n",
      "\n"
     ]
    }
   ],
   "source": [
    "print(classification_report(y_test, etc_ran_cv.predict(X_test)))"
   ]
  },
  {
   "cell_type": "code",
   "execution_count": 53,
   "metadata": {},
   "outputs": [],
   "source": [
    "from sklearn.metrics import roc_curve, auc"
   ]
  },
  {
   "cell_type": "code",
   "execution_count": 55,
   "metadata": {},
   "outputs": [
    {
     "data": {
      "text/plain": [
       "<matplotlib.legend.Legend at 0x125fdfa90>"
      ]
     },
     "execution_count": 55,
     "metadata": {},
     "output_type": "execute_result"
    },
    {
     "data": {
      "image/png": "[encoded data removed]",
      "text/plain": [
       "<Figure size 576x432 with 1 Axes>"
      ]
     },
     "metadata": {
      "needs_background": "light"
     },
     "output_type": "display_data"
    }
   ],
   "source": [
    "etc_pred_prob = etc.predict_proba(X_test)[:,1]\n",
    "etc_fpr, etc_tpr, etc_threshold = roc_curve(y_test, etc_pred_prob)\n",
    "etc_auc = auc(etc_fpr, etc_tpr)\n",
    "\n",
    "plt.figure(figsize=(8,6))\n",
    "plt.plot(etc_fpr, etc_tpr, label='ExtraTrees(auc=%0.3f)'%etc_auc)\n",
    "plt.xlabel('False Positive Rate')\n",
    "plt.ylabel('True Positive Rate')\n",
    "plt.legend()"
   ]
  },
  {
   "cell_type": "code",
   "execution_count": 93,
   "metadata": {
    "scrolled": true
   },
   "outputs": [
    {
     "name": "stdout",
     "output_type": "stream",
     "text": [
      "Threshold: 0.0, Accuracy: 0.7435897435897436\n",
      "Threshold: 0.01, Accuracy: 0.7435897435897436\n",
      "Threshold: 0.02, Accuracy: 0.7948717948717948\n",
      "Threshold: 0.03, Accuracy: 0.7948717948717948\n",
      "Threshold: 0.04, Accuracy: 0.7948717948717948\n",
      "Threshold: 0.05, Accuracy: 0.7948717948717948\n",
      "Threshold: 0.06, Accuracy: 0.8205128205128205\n",
      "Threshold: 0.07, Accuracy: 0.8461538461538461\n",
      "Threshold: 0.08, Accuracy: 0.8717948717948718\n",
      "Threshold: 0.09, Accuracy: 0.8717948717948718\n",
      "Threshold: 0.1, Accuracy: 0.8717948717948718\n",
      "Threshold: 0.11, Accuracy: 0.8717948717948718\n",
      "Threshold: 0.12, Accuracy: 0.8974358974358975\n",
      "Threshold: 0.13, Accuracy: 0.8974358974358975\n",
      "Threshold: 0.14, Accuracy: 0.8974358974358975\n",
      "Threshold: 0.15, Accuracy: 0.8974358974358975\n",
      "Threshold: 0.16, Accuracy: 0.8974358974358975\n",
      "Threshold: 0.17, Accuracy: 0.8974358974358975\n",
      "Threshold: 0.18, Accuracy: 0.8974358974358975\n",
      "Threshold: 0.19, Accuracy: 0.8974358974358975\n",
      "Threshold: 0.2, Accuracy: 0.8974358974358975\n",
      "Threshold: 0.21, Accuracy: 0.8974358974358975\n",
      "Threshold: 0.22, Accuracy: 0.8974358974358975\n",
      "Threshold: 0.23, Accuracy: 0.8974358974358975\n",
      "Threshold: 0.24, Accuracy: 0.8974358974358975\n",
      "Threshold: 0.25, Accuracy: 0.8974358974358975\n",
      "Threshold: 0.26, Accuracy: 0.9230769230769231\n",
      "Threshold: 0.27, Accuracy: 0.9487179487179487\n",
      "Threshold: 0.28, Accuracy: 0.9487179487179487\n",
      "Threshold: 0.29, Accuracy: 0.9487179487179487\n",
      "Threshold: 0.3, Accuracy: 0.9487179487179487\n",
      "Threshold: 0.31, Accuracy: 0.9487179487179487\n",
      "Threshold: 0.32, Accuracy: 0.9487179487179487\n",
      "Threshold: 0.33, Accuracy: 0.9487179487179487\n",
      "Threshold: 0.34, Accuracy: 0.9487179487179487\n",
      "Threshold: 0.35000000000000003, Accuracy: 0.9487179487179487\n",
      "Threshold: 0.36, Accuracy: 0.9230769230769231\n",
      "Threshold: 0.37, Accuracy: 0.9230769230769231\n",
      "Threshold: 0.38, Accuracy: 0.9230769230769231\n",
      "Threshold: 0.39, Accuracy: 0.9230769230769231\n",
      "Threshold: 0.4, Accuracy: 0.9230769230769231\n",
      "Threshold: 0.41000000000000003, Accuracy: 0.9487179487179487\n",
      "Threshold: 0.42, Accuracy: 0.9487179487179487\n",
      "Threshold: 0.43, Accuracy: 0.9487179487179487\n",
      "Threshold: 0.44, Accuracy: 0.9487179487179487\n",
      "Threshold: 0.45, Accuracy: 0.9487179487179487\n",
      "Threshold: 0.46, Accuracy: 0.9487179487179487\n",
      "Threshold: 0.47000000000000003, Accuracy: 0.9487179487179487\n",
      "Threshold: 0.48, Accuracy: 0.9487179487179487\n",
      "Threshold: 0.49, Accuracy: 0.9487179487179487\n",
      "Threshold: 0.5, Accuracy: 0.9487179487179487\n",
      "Threshold: 0.51, Accuracy: 0.9487179487179487\n",
      "Threshold: 0.52, Accuracy: 0.9487179487179487\n",
      "Threshold: 0.53, Accuracy: 0.9487179487179487\n",
      "Threshold: 0.54, Accuracy: 0.9487179487179487\n",
      "Threshold: 0.55, Accuracy: 0.9230769230769231\n",
      "Threshold: 0.56, Accuracy: 0.9230769230769231\n",
      "Threshold: 0.5700000000000001, Accuracy: 0.9230769230769231\n",
      "Threshold: 0.58, Accuracy: 0.9230769230769231\n",
      "Threshold: 0.59, Accuracy: 0.9230769230769231\n",
      "Threshold: 0.6, Accuracy: 0.9230769230769231\n",
      "Threshold: 0.61, Accuracy: 0.9230769230769231\n",
      "Threshold: 0.62, Accuracy: 0.9230769230769231\n",
      "Threshold: 0.63, Accuracy: 0.9230769230769231\n",
      "Threshold: 0.64, Accuracy: 0.9230769230769231\n",
      "Threshold: 0.65, Accuracy: 0.9230769230769231\n",
      "Threshold: 0.66, Accuracy: 0.9230769230769231\n",
      "Threshold: 0.67, Accuracy: 0.8717948717948718\n",
      "Threshold: 0.68, Accuracy: 0.8717948717948718\n",
      "Threshold: 0.6900000000000001, Accuracy: 0.8717948717948718\n",
      "Threshold: 0.7000000000000001, Accuracy: 0.8717948717948718\n",
      "Threshold: 0.71, Accuracy: 0.8717948717948718\n",
      "Threshold: 0.72, Accuracy: 0.8717948717948718\n",
      "Threshold: 0.73, Accuracy: 0.8717948717948718\n",
      "Threshold: 0.74, Accuracy: 0.8717948717948718\n",
      "Threshold: 0.75, Accuracy: 0.8717948717948718\n",
      "Threshold: 0.76, Accuracy: 0.8717948717948718\n",
      "Threshold: 0.77, Accuracy: 0.8461538461538461\n",
      "Threshold: 0.78, Accuracy: 0.8461538461538461\n",
      "Threshold: 0.79, Accuracy: 0.8461538461538461\n",
      "Threshold: 0.8, Accuracy: 0.8205128205128205\n",
      "Threshold: 0.81, Accuracy: 0.8205128205128205\n",
      "Threshold: 0.8200000000000001, Accuracy: 0.7948717948717948\n",
      "Threshold: 0.8300000000000001, Accuracy: 0.7948717948717948\n",
      "Threshold: 0.84, Accuracy: 0.7948717948717948\n",
      "Threshold: 0.85, Accuracy: 0.7435897435897436\n",
      "Threshold: 0.86, Accuracy: 0.6666666666666666\n",
      "Threshold: 0.87, Accuracy: 0.6666666666666666\n",
      "Threshold: 0.88, Accuracy: 0.6666666666666666\n",
      "Threshold: 0.89, Accuracy: 0.6666666666666666\n",
      "Threshold: 0.9, Accuracy: 0.6666666666666666\n",
      "Threshold: 0.91, Accuracy: 0.6666666666666666\n",
      "Threshold: 0.92, Accuracy: 0.6153846153846154\n",
      "Threshold: 0.93, Accuracy: 0.6153846153846154\n",
      "Threshold: 0.9400000000000001, Accuracy: 0.6153846153846154\n",
      "Threshold: 0.9500000000000001, Accuracy: 0.6153846153846154\n",
      "Threshold: 0.96, Accuracy: 0.5897435897435898\n",
      "Threshold: 0.97, Accuracy: 0.5897435897435898\n",
      "Threshold: 0.98, Accuracy: 0.5128205128205128\n",
      "Threshold: 0.99, Accuracy: 0.46153846153846156\n"
     ]
    }
   ],
   "source": [
    "for threshold in np.arange(0,1,0.01):\n",
    "    etc_pred_rev = [1 if i > threshold else 0 for i in etc_pred_prob]\n",
    "    print('Threshold: {}, Accuracy: {}'.format(threshold, accuracy_score(etc_pred_rev, y_test)))"
   ]
  },
  {
   "cell_type": "code",
   "execution_count": 76,
   "metadata": {
    "scrolled": true
   },
   "outputs": [
    {
     "data": {
      "text/html": [
       "<div>\n",
       "<style scoped>\n",
       "    .dataframe tbody tr th:only-of-type {\n",
       "        vertical-align: middle;\n",
       "    }\n",
       "\n",
       "    .dataframe tbody tr th {\n",
       "        vertical-align: top;\n",
       "    }\n",
       "\n",
       "    .dataframe thead th {\n",
       "        text-align: right;\n",
       "    }\n",
       "</style>\n",
       "<table border=\"1\" class=\"dataframe\">\n",
       "  <thead>\n",
       "    <tr style=\"text-align: right;\">\n",
       "      <th></th>\n",
       "      <th>0</th>\n",
       "      <th>1</th>\n",
       "      <th>2</th>\n",
       "      <th>3</th>\n",
       "      <th>4</th>\n",
       "      <th>5</th>\n",
       "      <th>6</th>\n",
       "      <th>7</th>\n",
       "      <th>8</th>\n",
       "      <th>9</th>\n",
       "      <th>10</th>\n",
       "      <th>11</th>\n",
       "      <th>12</th>\n",
       "      <th>13</th>\n",
       "      <th>14</th>\n",
       "      <th>15</th>\n",
       "    </tr>\n",
       "  </thead>\n",
       "  <tbody>\n",
       "    <tr>\n",
       "      <th>fpr</th>\n",
       "      <td>0.0</td>\n",
       "      <td>0.000000</td>\n",
       "      <td>0.000000</td>\n",
       "      <td>0.000000</td>\n",
       "      <td>0.000000</td>\n",
       "      <td>0.000000</td>\n",
       "      <td>0.000000</td>\n",
       "      <td>0.000000</td>\n",
       "      <td>0.000000</td>\n",
       "      <td>0.000000</td>\n",
       "      <td>0.100000</td>\n",
       "      <td>0.100000</td>\n",
       "      <td>0.200000</td>\n",
       "      <td>0.20</td>\n",
       "      <td>0.80</td>\n",
       "      <td>1.00</td>\n",
       "    </tr>\n",
       "    <tr>\n",
       "      <th>tpr</th>\n",
       "      <td>0.0</td>\n",
       "      <td>0.275862</td>\n",
       "      <td>0.344828</td>\n",
       "      <td>0.448276</td>\n",
       "      <td>0.482759</td>\n",
       "      <td>0.551724</td>\n",
       "      <td>0.655172</td>\n",
       "      <td>0.724138</td>\n",
       "      <td>0.827586</td>\n",
       "      <td>0.896552</td>\n",
       "      <td>0.931034</td>\n",
       "      <td>0.965517</td>\n",
       "      <td>0.965517</td>\n",
       "      <td>1.00</td>\n",
       "      <td>1.00</td>\n",
       "      <td>1.00</td>\n",
       "    </tr>\n",
       "    <tr>\n",
       "      <th>threshold</th>\n",
       "      <td>2.0</td>\n",
       "      <td>1.000000</td>\n",
       "      <td>0.990000</td>\n",
       "      <td>0.980000</td>\n",
       "      <td>0.960000</td>\n",
       "      <td>0.920000</td>\n",
       "      <td>0.860000</td>\n",
       "      <td>0.850000</td>\n",
       "      <td>0.770000</td>\n",
       "      <td>0.670000</td>\n",
       "      <td>0.630000</td>\n",
       "      <td>0.550000</td>\n",
       "      <td>0.410000</td>\n",
       "      <td>0.36</td>\n",
       "      <td>0.06</td>\n",
       "      <td>0.02</td>\n",
       "    </tr>\n",
       "  </tbody>\n",
       "</table>\n",
       "</div>"
      ],
      "text/plain": [
       "            0         1         2         3         4         5         6   \\\n",
       "fpr        0.0  0.000000  0.000000  0.000000  0.000000  0.000000  0.000000   \n",
       "tpr        0.0  0.275862  0.344828  0.448276  0.482759  0.551724  0.655172   \n",
       "threshold  2.0  1.000000  0.990000  0.980000  0.960000  0.920000  0.860000   \n",
       "\n",
       "                 7         8         9         10        11        12    13  \\\n",
       "fpr        0.000000  0.000000  0.000000  0.100000  0.100000  0.200000  0.20   \n",
       "tpr        0.724138  0.827586  0.896552  0.931034  0.965517  0.965517  1.00   \n",
       "threshold  0.850000  0.770000  0.670000  0.630000  0.550000  0.410000  0.36   \n",
       "\n",
       "             14    15  \n",
       "fpr        0.80  1.00  \n",
       "tpr        1.00  1.00  \n",
       "threshold  0.06  0.02  "
      ]
     },
     "execution_count": 76,
     "metadata": {},
     "output_type": "execute_result"
    }
   ],
   "source": [
    "pd.DataFrame(roc_curve(y_test, etc_pred_prob), index=['fpr', 'tpr', 'threshold'])"
   ]
  },
  {
   "cell_type": "markdown",
   "metadata": {},
   "source": [
    "For disease prediction we surely want to reduce false negatives, i.e, we want to increase True Positive Rate. We can compromise with False Positive Rate to some extent. At threshold of 0.36, True Positive Rate is 1 and False Positive Rate is 0.2. Accuracy at that threshold is 0.923, which is pretty much good."
   ]
  },
  {
   "cell_type": "code",
   "execution_count": null,
   "metadata": {},
   "outputs": [],
   "source": []
  }
 ],
 "metadata": {
  "kernelspec": {
   "display_name": "Python 3",
   "language": "python",
   "name": "python3"
  },
  "language_info": {
   "codemirror_mode": {
    "name": "ipython",
    "version": 3
   },
   "file_extension": ".py",
   "mimetype": "text/x-python",
   "name": "python",
   "nbconvert_exporter": "python",
   "pygments_lexer": "ipython3",
   "version": "3.8.5"
  }
 },
 "nbformat": 4,
 "nbformat_minor": 4
}
